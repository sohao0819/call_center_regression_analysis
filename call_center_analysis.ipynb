{
 "cells": [
  {
   "cell_type": "code",
   "execution_count": 53,
   "metadata": {},
   "outputs": [],
   "source": [
    "import pandas as pd\n",
    "import numpy as np\n",
    "from numpy import arange\n",
    "import matplotlib.pyplot as plt\n",
    "from sklearn import preprocessing\n",
    "from sklearn.linear_model import LogisticRegression\n",
    "import statsmodels.api as sm\n",
    "from scipy import stats\n"
   ]
  },
  {
   "cell_type": "code",
   "execution_count": 54,
   "metadata": {},
   "outputs": [],
   "source": [
    "df_leads = pd.read_csv('leads_name_list.csv')\n",
    "df_calls = pd.read_csv('phone_calls_list.csv')\n",
    "df_signups = pd.read_csv('signups_list.csv')"
   ]
  },
  {
   "cell_type": "markdown",
   "metadata": {},
   "source": [
    "## Data Exploration"
   ]
  },
  {
   "cell_type": "code",
   "execution_count": 55,
   "metadata": {},
   "outputs": [
    {
     "name": "stdout",
     "output_type": "stream",
     "text": [
      "(9994, 5)\n",
      "       Phone Number          Age\n",
      "count  9.994000e+03  9994.000000\n",
      "mean   4.991898e+11    37.577346\n",
      "std    2.912438e+11    20.041932\n",
      "min    3.807275e+07    18.000000\n",
      "25%    2.505262e+11    23.000000\n",
      "50%    4.944345e+11    31.000000\n",
      "75%    7.561744e+11    45.000000\n",
      "max    9.999519e+11   217.000000\n",
      "                Name  Phone Number      Region       Sector  Age\n",
      "0       Isabela MEZA  175718505368  north-west    wholesale   19\n",
      "1       Deangelo LEE  937521423043  north-west       retail   38\n",
      "2       Rosia MENDEZ  403640999962    midlands  agriculture   40\n",
      "3  Jeremiah GALLOWAY  946740713605    scotland         food   23\n",
      "4         Sarah POPE  264176984341    midlands       retail   18\n",
      "False\n",
      "9994\n",
      "9994\n"
     ]
    }
   ],
   "source": [
    "print(df_leads.shape)\n",
    "print(df_leads.describe()) #max age is 217, there is data quality issue\n",
    "print(df_leads.head())\n",
    "print(df_leads.isnull().values.any()) # No missing value in the table\n",
    "print(df_leads['Name'].nunique()) # Lead name has unique value\n",
    "print(df_leads['Phone Number'].nunique()) # Each lead has only one phone number"
   ]
  },
  {
   "cell_type": "code",
   "execution_count": 56,
   "metadata": {},
   "outputs": [
    {
     "name": "stdout",
     "output_type": "stream",
     "text": [
      "(5000, 4)\n",
      "   Phone Number     Call Outcome   Agent  Call Number\n",
      "0   83473306392   NOT INTERESTED  orange            0\n",
      "1  762850680150  CALL BACK LATER  orange            1\n",
      "2  476309275079   NOT INTERESTED  orange            2\n",
      "3  899921761538  CALL BACK LATER     red            3\n",
      "4  906739234066  CALL BACK LATER  orange            4\n",
      "False\n",
      "orange    2234\n",
      "red       1478\n",
      "black      750\n",
      "green      339\n",
      "blue       199\n",
      "Name: Agent, dtype: int64\n",
      "2718\n",
      "CALL BACK LATER    1816\n",
      "INTERESTED         1296\n",
      "NOT INTERESTED     1211\n",
      "ANSWER MACHINE      514\n",
      "DEAD LINE           163\n",
      "Name: Call Outcome, dtype: int64\n",
      "163\n"
     ]
    }
   ],
   "source": [
    "print(df_calls.shape)\n",
    "print(df_calls.head())\n",
    "print(df_calls.isnull().values.any()) # No missing value\n",
    "print(df_calls['Agent'].value_counts()) # There are 5 agents in total\n",
    "print(df_calls['Phone Number'].nunique()) # There are 2718 distinct phone number\n",
    "print(df_calls['Call Outcome'].value_counts()) # 163 calls reaching to dead line\n",
    "print(df_calls[df_calls['Call Outcome']=='DEAD LINE']['Phone Number'].nunique()) # Each dead line only got one call"
   ]
  },
  {
   "cell_type": "code",
   "execution_count": 57,
   "metadata": {},
   "outputs": [
    {
     "name": "stdout",
     "output_type": "stream",
     "text": [
      "(768, 2)\n",
      "               Lead Approval Decision\n",
      "count           768               768\n",
      "unique          768                 2\n",
      "top     Monroe BOND          REJECTED\n",
      "freq              1               511\n",
      "             Lead Approval Decision\n",
      "0     Tyree TERRY          APPROVED\n",
      "1      Ansel WOOD          REJECTED\n",
      "2     Ludwig DIAZ          APPROVED\n",
      "3   Mack ARELLANO          APPROVED\n",
      "4  Judy HENDRICKS          REJECTED\n",
      "False\n",
      "REJECTED    511\n",
      "APPROVED    257\n",
      "Name: Approval Decision, dtype: int64\n"
     ]
    }
   ],
   "source": [
    "print(df_signups.shape)\n",
    "print(df_signups.describe())# No duplication in lead name\n",
    "print(df_signups.head()) \n",
    "print(df_signups.isnull().values.any()) # No missing value\n",
    "print(df_signups[\"Approval Decision\"].value_counts()) # 768 total signups, 511 rejected, 257 approved "
   ]
  },
  {
   "cell_type": "markdown",
   "metadata": {},
   "source": [
    "## Questions"
   ]
  },
  {
   "cell_type": "markdown",
   "metadata": {},
   "source": [
    "### 1. Which agent made the most calls? "
   ]
  },
  {
   "cell_type": "code",
   "execution_count": 58,
   "metadata": {},
   "outputs": [
    {
     "data": {
      "text/plain": [
       "orange    2234\n",
       "red       1478\n",
       "black      750\n",
       "green      339\n",
       "blue       199\n",
       "Name: Agent, dtype: int64"
      ]
     },
     "execution_count": 58,
     "metadata": {},
     "output_type": "execute_result"
    }
   ],
   "source": [
    "df_agent_calls = df_calls['Agent'].value_counts()\n",
    "df_agent_calls"
   ]
  },
  {
   "cell_type": "markdown",
   "metadata": {},
   "source": [
    "### 2. For the leads that received one or more calls, how many calls were received on average? "
   ]
  },
  {
   "cell_type": "markdown",
   "metadata": {},
   "source": [
    "1) Take into account calls to dead lines"
   ]
  },
  {
   "cell_type": "code",
   "execution_count": 59,
   "metadata": {},
   "outputs": [
    {
     "data": {
      "text/plain": [
       "1.839587932303164"
      ]
     },
     "execution_count": 59,
     "metadata": {},
     "output_type": "execute_result"
    }
   ],
   "source": [
    "df_ttl_calls_cnt = df_calls.groupby(['Phone Number']).size().reset_index(name = 'Total Call Count') \n",
    "#count total number of calls for each phone number, including calls to dead lines\n",
    "\n",
    "df_leads = pd.merge(df_leads, df_ttl_calls_cnt, on = 'Phone Number', how = 'left') \n",
    "\n",
    "df_leads_sub = df_leads[df_leads['Total Call Count']>=1] # filter out leads with total call count >=1 \n",
    "df_leads_sub['Total Call Count'].sum()/len(df_leads_sub) # average call count per lead "
   ]
  },
  {
   "cell_type": "markdown",
   "metadata": {},
   "source": [
    "2) Remove calls to dead lines as these calls haven't been actually received"
   ]
  },
  {
   "cell_type": "code",
   "execution_count": 60,
   "metadata": {},
   "outputs": [
    {
     "data": {
      "text/plain": [
       "1.893150684931507"
      ]
     },
     "execution_count": 60,
     "metadata": {},
     "output_type": "execute_result"
    }
   ],
   "source": [
    "df_valid_calls_cnt = df_calls[df_calls['Call Outcome']!='DEAD LINE'].groupby(['Phone Number']).size().reset_index(name = \"Valid Call Count\") \n",
    "#count valid number of calls of each phone number, removing calls to dead lines \n",
    "\n",
    "df_leads = pd.merge(df_leads, df_valid_calls_cnt, on = 'Phone Number', how = 'left') \n",
    "\n",
    "df_leads_sub = df_leads[df_leads['Valid Call Count']>=1] # filter out leads with valid call count >=1 \n",
    "df_leads_sub['Valid Call Count'].sum()/len(df_leads_sub) # average call count per lead "
   ]
  },
  {
   "cell_type": "markdown",
   "metadata": {},
   "source": [
    "### 3. For the leads that signed up, how many calls were received, on average? "
   ]
  },
  {
   "cell_type": "code",
   "execution_count": 61,
   "metadata": {},
   "outputs": [
    {
     "data": {
      "text/html": [
       "<div>\n",
       "<style scoped>\n",
       "    .dataframe tbody tr th:only-of-type {\n",
       "        vertical-align: middle;\n",
       "    }\n",
       "\n",
       "    .dataframe tbody tr th {\n",
       "        vertical-align: top;\n",
       "    }\n",
       "\n",
       "    .dataframe thead th {\n",
       "        text-align: right;\n",
       "    }\n",
       "</style>\n",
       "<table border=\"1\" class=\"dataframe\">\n",
       "  <thead>\n",
       "    <tr style=\"text-align: right;\">\n",
       "      <th></th>\n",
       "      <th>Name</th>\n",
       "      <th>Phone Number</th>\n",
       "      <th>Region</th>\n",
       "      <th>Sector</th>\n",
       "      <th>Age</th>\n",
       "      <th>Total Call Count</th>\n",
       "      <th>Valid Call Count</th>\n",
       "      <th>Lead</th>\n",
       "      <th>Approval Decision</th>\n",
       "    </tr>\n",
       "  </thead>\n",
       "  <tbody>\n",
       "    <tr>\n",
       "      <th>0</th>\n",
       "      <td>Isabela MEZA</td>\n",
       "      <td>175718505368</td>\n",
       "      <td>north-west</td>\n",
       "      <td>wholesale</td>\n",
       "      <td>19</td>\n",
       "      <td>NaN</td>\n",
       "      <td>NaN</td>\n",
       "      <td>NaN</td>\n",
       "      <td>NaN</td>\n",
       "    </tr>\n",
       "    <tr>\n",
       "      <th>1</th>\n",
       "      <td>Deangelo LEE</td>\n",
       "      <td>937521423043</td>\n",
       "      <td>north-west</td>\n",
       "      <td>retail</td>\n",
       "      <td>38</td>\n",
       "      <td>3.0</td>\n",
       "      <td>3.0</td>\n",
       "      <td>Deangelo LEE</td>\n",
       "      <td>APPROVED</td>\n",
       "    </tr>\n",
       "    <tr>\n",
       "      <th>2</th>\n",
       "      <td>Rosia MENDEZ</td>\n",
       "      <td>403640999962</td>\n",
       "      <td>midlands</td>\n",
       "      <td>agriculture</td>\n",
       "      <td>40</td>\n",
       "      <td>NaN</td>\n",
       "      <td>NaN</td>\n",
       "      <td>NaN</td>\n",
       "      <td>NaN</td>\n",
       "    </tr>\n",
       "    <tr>\n",
       "      <th>3</th>\n",
       "      <td>Jeremiah GALLOWAY</td>\n",
       "      <td>946740713605</td>\n",
       "      <td>scotland</td>\n",
       "      <td>food</td>\n",
       "      <td>23</td>\n",
       "      <td>NaN</td>\n",
       "      <td>NaN</td>\n",
       "      <td>NaN</td>\n",
       "      <td>NaN</td>\n",
       "    </tr>\n",
       "    <tr>\n",
       "      <th>4</th>\n",
       "      <td>Sarah POPE</td>\n",
       "      <td>264176984341</td>\n",
       "      <td>midlands</td>\n",
       "      <td>retail</td>\n",
       "      <td>18</td>\n",
       "      <td>1.0</td>\n",
       "      <td>1.0</td>\n",
       "      <td>NaN</td>\n",
       "      <td>NaN</td>\n",
       "    </tr>\n",
       "  </tbody>\n",
       "</table>\n",
       "</div>"
      ],
      "text/plain": [
       "                Name  Phone Number      Region       Sector  Age  \\\n",
       "0       Isabela MEZA  175718505368  north-west    wholesale   19   \n",
       "1       Deangelo LEE  937521423043  north-west       retail   38   \n",
       "2       Rosia MENDEZ  403640999962    midlands  agriculture   40   \n",
       "3  Jeremiah GALLOWAY  946740713605    scotland         food   23   \n",
       "4         Sarah POPE  264176984341    midlands       retail   18   \n",
       "\n",
       "   Total Call Count  Valid Call Count          Lead Approval Decision  \n",
       "0               NaN               NaN           NaN               NaN  \n",
       "1               3.0               3.0  Deangelo LEE          APPROVED  \n",
       "2               NaN               NaN           NaN               NaN  \n",
       "3               NaN               NaN           NaN               NaN  \n",
       "4               1.0               1.0           NaN               NaN  "
      ]
     },
     "execution_count": 61,
     "metadata": {},
     "output_type": "execute_result"
    }
   ],
   "source": [
    "df_leads = pd.merge(df_leads, df_signups, left_on = 'Name', right_on = 'Lead', how = 'left')\n",
    "df_leads.head()"
   ]
  },
  {
   "cell_type": "code",
   "execution_count": 62,
   "metadata": {},
   "outputs": [
    {
     "data": {
      "text/plain": [
       "2.0989583333333335"
      ]
     },
     "execution_count": 62,
     "metadata": {},
     "output_type": "execute_result"
    }
   ],
   "source": [
    "df_leads[~df_leads['Approval Decision'].isnull()]['Valid Call Count'].mean()"
   ]
  },
  {
   "cell_type": "markdown",
   "metadata": {},
   "source": [
    "### 4. Which agent had the most signups? Which assumptions did you make? (note that there is a many-to-one relationship between calls and leads)"
   ]
  },
  {
   "cell_type": "code",
   "execution_count": 63,
   "metadata": {},
   "outputs": [
    {
     "data": {
      "text/plain": [
       "CALL BACK LATER    1816\n",
       "INTERESTED         1296\n",
       "NOT INTERESTED     1211\n",
       "ANSWER MACHINE      514\n",
       "DEAD LINE           163\n",
       "Name: Call Outcome, dtype: int64"
      ]
     },
     "execution_count": 63,
     "metadata": {},
     "output_type": "execute_result"
    }
   ],
   "source": [
    "df_calls['Call Outcome'].value_counts()"
   ]
  },
  {
   "cell_type": "code",
   "execution_count": 64,
   "metadata": {},
   "outputs": [
    {
     "name": "stdout",
     "output_type": "stream",
     "text": [
      "      Phone Number  int_call_agent_cnt\n",
      "0        296668016                   1\n",
      "1        330347320                   1\n",
      "2        457146043                   1\n",
      "3       1317965432                   1\n",
      "4       1590010071                   1\n",
      "...            ...                 ...\n",
      "1291  994620568249                   1\n",
      "1292  995004694533                   1\n",
      "1293  997429252497                   1\n",
      "1294  999291322738                   1\n",
      "1295  999564451271                   1\n",
      "\n",
      "[1296 rows x 2 columns]\n",
      "1    1296\n",
      "Name: int_call_agent_cnt, dtype: int64\n"
     ]
    }
   ],
   "source": [
    "# For each call with \"interested\" outcome, is there one to one relationship between phone number and agent? --Yes\n",
    "df_int_calls = df_calls[df_calls['Call Outcome']=='INTERESTED'].groupby(['Phone Number'])['Agent'].count().reset_index(name = 'int_call_agent_cnt')\n",
    "print(df_int_calls)\n",
    "print(df_int_calls['int_call_agent_cnt'].value_counts())"
   ]
  },
  {
   "cell_type": "code",
   "execution_count": 65,
   "metadata": {},
   "outputs": [],
   "source": [
    "df_leads = pd.merge(df_leads, df_calls[df_calls['Call Outcome']=='INTERESTED'][['Phone Number','Agent']], on = 'Phone Number', how = 'left')\n",
    "# Add interested call agent to df_leads"
   ]
  },
  {
   "cell_type": "code",
   "execution_count": 66,
   "metadata": {},
   "outputs": [
    {
     "data": {
      "text/html": [
       "<div>\n",
       "<style scoped>\n",
       "    .dataframe tbody tr th:only-of-type {\n",
       "        vertical-align: middle;\n",
       "    }\n",
       "\n",
       "    .dataframe tbody tr th {\n",
       "        vertical-align: top;\n",
       "    }\n",
       "\n",
       "    .dataframe thead th {\n",
       "        text-align: right;\n",
       "    }\n",
       "</style>\n",
       "<table border=\"1\" class=\"dataframe\">\n",
       "  <thead>\n",
       "    <tr style=\"text-align: right;\">\n",
       "      <th></th>\n",
       "      <th>Name</th>\n",
       "      <th>Phone Number</th>\n",
       "      <th>Region</th>\n",
       "      <th>Sector</th>\n",
       "      <th>Age</th>\n",
       "      <th>Total Call Count</th>\n",
       "      <th>Valid Call Count</th>\n",
       "      <th>Lead</th>\n",
       "      <th>Approval Decision</th>\n",
       "      <th>Agent - Call w/ Interest</th>\n",
       "    </tr>\n",
       "  </thead>\n",
       "  <tbody>\n",
       "    <tr>\n",
       "      <th>0</th>\n",
       "      <td>Isabela MEZA</td>\n",
       "      <td>175718505368</td>\n",
       "      <td>north-west</td>\n",
       "      <td>wholesale</td>\n",
       "      <td>19</td>\n",
       "      <td>NaN</td>\n",
       "      <td>NaN</td>\n",
       "      <td>NaN</td>\n",
       "      <td>NaN</td>\n",
       "      <td>NaN</td>\n",
       "    </tr>\n",
       "    <tr>\n",
       "      <th>1</th>\n",
       "      <td>Deangelo LEE</td>\n",
       "      <td>937521423043</td>\n",
       "      <td>north-west</td>\n",
       "      <td>retail</td>\n",
       "      <td>38</td>\n",
       "      <td>3.0</td>\n",
       "      <td>3.0</td>\n",
       "      <td>Deangelo LEE</td>\n",
       "      <td>APPROVED</td>\n",
       "      <td>orange</td>\n",
       "    </tr>\n",
       "    <tr>\n",
       "      <th>2</th>\n",
       "      <td>Rosia MENDEZ</td>\n",
       "      <td>403640999962</td>\n",
       "      <td>midlands</td>\n",
       "      <td>agriculture</td>\n",
       "      <td>40</td>\n",
       "      <td>NaN</td>\n",
       "      <td>NaN</td>\n",
       "      <td>NaN</td>\n",
       "      <td>NaN</td>\n",
       "      <td>NaN</td>\n",
       "    </tr>\n",
       "    <tr>\n",
       "      <th>3</th>\n",
       "      <td>Jeremiah GALLOWAY</td>\n",
       "      <td>946740713605</td>\n",
       "      <td>scotland</td>\n",
       "      <td>food</td>\n",
       "      <td>23</td>\n",
       "      <td>NaN</td>\n",
       "      <td>NaN</td>\n",
       "      <td>NaN</td>\n",
       "      <td>NaN</td>\n",
       "      <td>NaN</td>\n",
       "    </tr>\n",
       "    <tr>\n",
       "      <th>4</th>\n",
       "      <td>Sarah POPE</td>\n",
       "      <td>264176984341</td>\n",
       "      <td>midlands</td>\n",
       "      <td>retail</td>\n",
       "      <td>18</td>\n",
       "      <td>1.0</td>\n",
       "      <td>1.0</td>\n",
       "      <td>NaN</td>\n",
       "      <td>NaN</td>\n",
       "      <td>NaN</td>\n",
       "    </tr>\n",
       "  </tbody>\n",
       "</table>\n",
       "</div>"
      ],
      "text/plain": [
       "                Name  Phone Number      Region       Sector  Age  \\\n",
       "0       Isabela MEZA  175718505368  north-west    wholesale   19   \n",
       "1       Deangelo LEE  937521423043  north-west       retail   38   \n",
       "2       Rosia MENDEZ  403640999962    midlands  agriculture   40   \n",
       "3  Jeremiah GALLOWAY  946740713605    scotland         food   23   \n",
       "4         Sarah POPE  264176984341    midlands       retail   18   \n",
       "\n",
       "   Total Call Count  Valid Call Count          Lead Approval Decision  \\\n",
       "0               NaN               NaN           NaN               NaN   \n",
       "1               3.0               3.0  Deangelo LEE          APPROVED   \n",
       "2               NaN               NaN           NaN               NaN   \n",
       "3               NaN               NaN           NaN               NaN   \n",
       "4               1.0               1.0           NaN               NaN   \n",
       "\n",
       "  Agent - Call w/ Interest  \n",
       "0                      NaN  \n",
       "1                   orange  \n",
       "2                      NaN  \n",
       "3                      NaN  \n",
       "4                      NaN  "
      ]
     },
     "execution_count": 66,
     "metadata": {},
     "output_type": "execute_result"
    }
   ],
   "source": [
    "df_leads = df_leads.rename(columns={'Agent': 'Agent - Call w/ Interest'}) # rename Agent to Interested Call Agent to avoid confusion\n",
    "df_leads.head()"
   ]
  },
  {
   "cell_type": "code",
   "execution_count": 67,
   "metadata": {},
   "outputs": [
    {
     "data": {
      "text/plain": [
       "red       316\n",
       "orange    284\n",
       "green      67\n",
       "blue       52\n",
       "black      49\n",
       "Name: Agent - Call w/ Interest, dtype: int64"
      ]
     },
     "execution_count": 67,
     "metadata": {},
     "output_type": "execute_result"
    }
   ],
   "source": [
    "df_agent_signup = df_leads[~df_leads['Approval Decision'].isnull()]['Agent - Call w/ Interest'].value_counts()\n",
    "df_agent_signup"
   ]
  },
  {
   "cell_type": "markdown",
   "metadata": {},
   "source": [
    "Result: red agent has the most signups with total signups @ 316 <br />\n",
    "Assumption:\n",
    "*\teach call's result is independent from each other. The previous calls to the same lead will not influence the result of laters call \n",
    "*   only calls with \"interested\" outcome will lead to signups. In other words, if a lead has received multiple calls from different agents, the signup will only be attributed to the agent who made the phone call with \"interested\" outcome"
   ]
  },
  {
   "cell_type": "markdown",
   "metadata": {},
   "source": [
    "### 5.\tWhich agent had the most signups per call? "
   ]
  },
  {
   "cell_type": "code",
   "execution_count": 68,
   "metadata": {},
   "outputs": [
    {
     "data": {
      "text/html": [
       "<div>\n",
       "<style scoped>\n",
       "    .dataframe tbody tr th:only-of-type {\n",
       "        vertical-align: middle;\n",
       "    }\n",
       "\n",
       "    .dataframe tbody tr th {\n",
       "        vertical-align: top;\n",
       "    }\n",
       "\n",
       "    .dataframe thead th {\n",
       "        text-align: right;\n",
       "    }\n",
       "</style>\n",
       "<table border=\"1\" class=\"dataframe\">\n",
       "  <thead>\n",
       "    <tr style=\"text-align: right;\">\n",
       "      <th></th>\n",
       "      <th>Agent Call Count</th>\n",
       "      <th>Agent Signup Count</th>\n",
       "    </tr>\n",
       "  </thead>\n",
       "  <tbody>\n",
       "    <tr>\n",
       "      <th>orange</th>\n",
       "      <td>2234</td>\n",
       "      <td>284</td>\n",
       "    </tr>\n",
       "    <tr>\n",
       "      <th>red</th>\n",
       "      <td>1478</td>\n",
       "      <td>316</td>\n",
       "    </tr>\n",
       "    <tr>\n",
       "      <th>black</th>\n",
       "      <td>750</td>\n",
       "      <td>49</td>\n",
       "    </tr>\n",
       "    <tr>\n",
       "      <th>green</th>\n",
       "      <td>339</td>\n",
       "      <td>67</td>\n",
       "    </tr>\n",
       "    <tr>\n",
       "      <th>blue</th>\n",
       "      <td>199</td>\n",
       "      <td>52</td>\n",
       "    </tr>\n",
       "  </tbody>\n",
       "</table>\n",
       "</div>"
      ],
      "text/plain": [
       "        Agent Call Count  Agent Signup Count\n",
       "orange              2234                 284\n",
       "red                 1478                 316\n",
       "black                750                  49\n",
       "green                339                  67\n",
       "blue                 199                  52"
      ]
     },
     "execution_count": 68,
     "metadata": {},
     "output_type": "execute_result"
    }
   ],
   "source": [
    "df_agent_perf = df_agent_calls.to_frame().join(df_agent_signup) # create agent performance by joining agent call and agent signup together\n",
    "df_agent_perf.columns= ['Agent Call Count', 'Agent Signup Count']\n",
    "df_agent_perf"
   ]
  },
  {
   "cell_type": "code",
   "execution_count": 69,
   "metadata": {},
   "outputs": [
    {
     "data": {
      "text/html": [
       "<div>\n",
       "<style scoped>\n",
       "    .dataframe tbody tr th:only-of-type {\n",
       "        vertical-align: middle;\n",
       "    }\n",
       "\n",
       "    .dataframe tbody tr th {\n",
       "        vertical-align: top;\n",
       "    }\n",
       "\n",
       "    .dataframe thead th {\n",
       "        text-align: right;\n",
       "    }\n",
       "</style>\n",
       "<table border=\"1\" class=\"dataframe\">\n",
       "  <thead>\n",
       "    <tr style=\"text-align: right;\">\n",
       "      <th></th>\n",
       "      <th>Agent Call Count</th>\n",
       "      <th>Agent Signup Count</th>\n",
       "      <th>Agent Signups Per Call</th>\n",
       "    </tr>\n",
       "  </thead>\n",
       "  <tbody>\n",
       "    <tr>\n",
       "      <th>blue</th>\n",
       "      <td>199</td>\n",
       "      <td>52</td>\n",
       "      <td>0.261307</td>\n",
       "    </tr>\n",
       "    <tr>\n",
       "      <th>red</th>\n",
       "      <td>1478</td>\n",
       "      <td>316</td>\n",
       "      <td>0.213802</td>\n",
       "    </tr>\n",
       "    <tr>\n",
       "      <th>green</th>\n",
       "      <td>339</td>\n",
       "      <td>67</td>\n",
       "      <td>0.197640</td>\n",
       "    </tr>\n",
       "    <tr>\n",
       "      <th>orange</th>\n",
       "      <td>2234</td>\n",
       "      <td>284</td>\n",
       "      <td>0.127126</td>\n",
       "    </tr>\n",
       "    <tr>\n",
       "      <th>black</th>\n",
       "      <td>750</td>\n",
       "      <td>49</td>\n",
       "      <td>0.065333</td>\n",
       "    </tr>\n",
       "  </tbody>\n",
       "</table>\n",
       "</div>"
      ],
      "text/plain": [
       "        Agent Call Count  Agent Signup Count  Agent Signups Per Call\n",
       "blue                 199                  52                0.261307\n",
       "red                 1478                 316                0.213802\n",
       "green                339                  67                0.197640\n",
       "orange              2234                 284                0.127126\n",
       "black                750                  49                0.065333"
      ]
     },
     "execution_count": 69,
     "metadata": {},
     "output_type": "execute_result"
    }
   ],
   "source": [
    "df_agent_perf['Agent Signups Per Call'] = df_agent_perf['Agent Signup Count']/df_agent_perf['Agent Call Count']\n",
    "df_agent_perf.sort_values(by=['Agent Signups Per Call'],ascending=False)\n"
   ]
  },
  {
   "cell_type": "markdown",
   "metadata": {},
   "source": [
    "Result: blue agent has the highest signup per call with average signups per call @0.26"
   ]
  },
  {
   "cell_type": "markdown",
   "metadata": {},
   "source": [
    "### 6. Was the variation between the agents’ signups-per-call statistically significant? Why? "
   ]
  },
  {
   "cell_type": "code",
   "execution_count": 70,
   "metadata": {},
   "outputs": [
    {
     "data": {
      "text/html": [
       "<div>\n",
       "<style scoped>\n",
       "    .dataframe tbody tr th:only-of-type {\n",
       "        vertical-align: middle;\n",
       "    }\n",
       "\n",
       "    .dataframe tbody tr th {\n",
       "        vertical-align: top;\n",
       "    }\n",
       "\n",
       "    .dataframe thead th {\n",
       "        text-align: right;\n",
       "    }\n",
       "</style>\n",
       "<table border=\"1\" class=\"dataframe\">\n",
       "  <thead>\n",
       "    <tr style=\"text-align: right;\">\n",
       "      <th></th>\n",
       "      <th>Agent Call Count</th>\n",
       "      <th>Agent Signup Count</th>\n",
       "      <th>Agent Signups Per Call</th>\n",
       "      <th>Standard_Error</th>\n",
       "      <th>95% CI Lower Band</th>\n",
       "      <th>95% CI Upper Band</th>\n",
       "    </tr>\n",
       "    <tr>\n",
       "      <th>Agent</th>\n",
       "      <th></th>\n",
       "      <th></th>\n",
       "      <th></th>\n",
       "      <th></th>\n",
       "      <th></th>\n",
       "      <th></th>\n",
       "    </tr>\n",
       "  </thead>\n",
       "  <tbody>\n",
       "    <tr>\n",
       "      <th>orange</th>\n",
       "      <td>2234</td>\n",
       "      <td>284</td>\n",
       "      <td>0.127126</td>\n",
       "      <td>0.007048</td>\n",
       "      <td>0.113313</td>\n",
       "      <td>0.140940</td>\n",
       "    </tr>\n",
       "    <tr>\n",
       "      <th>red</th>\n",
       "      <td>1478</td>\n",
       "      <td>316</td>\n",
       "      <td>0.213802</td>\n",
       "      <td>0.010664</td>\n",
       "      <td>0.192900</td>\n",
       "      <td>0.234705</td>\n",
       "    </tr>\n",
       "    <tr>\n",
       "      <th>black</th>\n",
       "      <td>750</td>\n",
       "      <td>49</td>\n",
       "      <td>0.065333</td>\n",
       "      <td>0.009023</td>\n",
       "      <td>0.047648</td>\n",
       "      <td>0.083019</td>\n",
       "    </tr>\n",
       "    <tr>\n",
       "      <th>green</th>\n",
       "      <td>339</td>\n",
       "      <td>67</td>\n",
       "      <td>0.197640</td>\n",
       "      <td>0.021628</td>\n",
       "      <td>0.155249</td>\n",
       "      <td>0.240032</td>\n",
       "    </tr>\n",
       "    <tr>\n",
       "      <th>blue</th>\n",
       "      <td>199</td>\n",
       "      <td>52</td>\n",
       "      <td>0.261307</td>\n",
       "      <td>0.031144</td>\n",
       "      <td>0.200263</td>\n",
       "      <td>0.322350</td>\n",
       "    </tr>\n",
       "  </tbody>\n",
       "</table>\n",
       "</div>"
      ],
      "text/plain": [
       "        Agent Call Count  Agent Signup Count  Agent Signups Per Call  \\\n",
       "Agent                                                                  \n",
       "orange              2234                 284                0.127126   \n",
       "red                 1478                 316                0.213802   \n",
       "black                750                  49                0.065333   \n",
       "green                339                  67                0.197640   \n",
       "blue                 199                  52                0.261307   \n",
       "\n",
       "        Standard_Error  95% CI Lower Band  95% CI Upper Band  \n",
       "Agent                                                         \n",
       "orange        0.007048           0.113313           0.140940  \n",
       "red           0.010664           0.192900           0.234705  \n",
       "black         0.009023           0.047648           0.083019  \n",
       "green         0.021628           0.155249           0.240032  \n",
       "blue          0.031144           0.200263           0.322350  "
      ]
     },
     "execution_count": 70,
     "metadata": {},
     "output_type": "execute_result"
    }
   ],
   "source": [
    "df_agent_perf['Standard_Error'] = np.sqrt(df_agent_perf['Agent Signups Per Call']* (1 - df_agent_perf['Agent Signups Per Call']) /  df_agent_perf['Agent Call Count'])\n",
    "df_agent_perf['95% CI Lower Band'] = df_agent_perf['Agent Signups Per Call'] - 1.96*df_agent_perf['Standard_Error']\n",
    "df_agent_perf['95% CI Upper Band'] = df_agent_perf['Agent Signups Per Call'] + 1.96*df_agent_perf['Standard_Error']\n",
    "df_agent_perf.index.name = 'Agent'\n",
    "df_agent_perf"
   ]
  },
  {
   "cell_type": "code",
   "execution_count": 71,
   "metadata": {},
   "outputs": [
    {
     "data": {
      "text/plain": [
       "[Agent\n",
       " orange    0.013814\n",
       " red       0.020902\n",
       " black     0.017686\n",
       " green     0.042391\n",
       " blue      0.061043\n",
       " dtype: float64,\n",
       " Agent\n",
       " orange    0.013814\n",
       " red       0.020902\n",
       " black     0.017686\n",
       " green     0.042391\n",
       " blue      0.061043\n",
       " dtype: float64]"
      ]
     },
     "execution_count": 71,
     "metadata": {},
     "output_type": "execute_result"
    }
   ],
   "source": [
    "yerr=[df_agent_perf['Agent Signups Per Call']-df_agent_perf['95% CI Lower Band'], df_agent_perf['95% CI Upper Band']-df_agent_perf['Agent Signups Per Call']]\n",
    "yerr "
   ]
  },
  {
   "cell_type": "code",
   "execution_count": 72,
   "metadata": {},
   "outputs": [
    {
     "data": {
      "text/plain": [
       "<matplotlib.axes._subplots.AxesSubplot at 0x18ef046c048>"
      ]
     },
     "execution_count": 72,
     "metadata": {},
     "output_type": "execute_result"
    },
    {
     "data": {
      "image/png": "[encoded data removed]",
      "text/plain": [
       "<Figure size 432x288 with 1 Axes>"
      ]
     },
     "metadata": {
      "needs_background": "light"
     },
     "output_type": "display_data"
    }
   ],
   "source": [
    "df_agent_perf.plot.bar(y='Agent Signups Per Call', yerr=yerr)\n",
    "# visulize 95% confidence interval of each agent"
   ]
  },
  {
   "cell_type": "markdown",
   "metadata": {},
   "source": [
    "From initial exploration, signup per call is quite different for each agent. The next step is to perform chi-square test of independence."
   ]
  },
  {
   "cell_type": "code",
   "execution_count": 73,
   "metadata": {},
   "outputs": [
    {
     "data": {
      "text/html": [
       "<div>\n",
       "<style scoped>\n",
       "    .dataframe tbody tr th:only-of-type {\n",
       "        vertical-align: middle;\n",
       "    }\n",
       "\n",
       "    .dataframe tbody tr th {\n",
       "        vertical-align: top;\n",
       "    }\n",
       "\n",
       "    .dataframe thead th {\n",
       "        text-align: right;\n",
       "    }\n",
       "</style>\n",
       "<table border=\"1\" class=\"dataframe\">\n",
       "  <thead>\n",
       "    <tr style=\"text-align: right;\">\n",
       "      <th></th>\n",
       "      <th>Agent Signup Count</th>\n",
       "      <th>Agent No-signup Count</th>\n",
       "    </tr>\n",
       "    <tr>\n",
       "      <th>Agent</th>\n",
       "      <th></th>\n",
       "      <th></th>\n",
       "    </tr>\n",
       "  </thead>\n",
       "  <tbody>\n",
       "    <tr>\n",
       "      <th>orange</th>\n",
       "      <td>284</td>\n",
       "      <td>1950</td>\n",
       "    </tr>\n",
       "    <tr>\n",
       "      <th>red</th>\n",
       "      <td>316</td>\n",
       "      <td>1162</td>\n",
       "    </tr>\n",
       "    <tr>\n",
       "      <th>black</th>\n",
       "      <td>49</td>\n",
       "      <td>701</td>\n",
       "    </tr>\n",
       "    <tr>\n",
       "      <th>green</th>\n",
       "      <td>67</td>\n",
       "      <td>272</td>\n",
       "    </tr>\n",
       "    <tr>\n",
       "      <th>blue</th>\n",
       "      <td>52</td>\n",
       "      <td>147</td>\n",
       "    </tr>\n",
       "  </tbody>\n",
       "</table>\n",
       "</div>"
      ],
      "text/plain": [
       "        Agent Signup Count  Agent No-signup Count\n",
       "Agent                                            \n",
       "orange                 284                   1950\n",
       "red                    316                   1162\n",
       "black                   49                    701\n",
       "green                   67                    272\n",
       "blue                    52                    147"
      ]
     },
     "execution_count": 73,
     "metadata": {},
     "output_type": "execute_result"
    }
   ],
   "source": [
    "#prepare the table\n",
    "df_agent_perf['Agent No-signup Count'] = df_agent_perf['Agent Call Count'] - df_agent_perf['Agent Signup Count']\n",
    "df_agent_signup = df_agent_perf[['Agent Signup Count','Agent No-signup Count']]\n",
    "df_agent_signup"
   ]
  },
  {
   "cell_type": "code",
   "execution_count": 74,
   "metadata": {},
   "outputs": [
    {
     "data": {
      "text/plain": [
       "(121.00714102355002,\n",
       " 3.2548690463183205e-25,\n",
       " 4,\n",
       " array([[ 343.1424, 1890.8576],\n",
       "        [ 227.0208, 1250.9792],\n",
       "        [ 115.2   ,  634.8   ],\n",
       "        [  52.0704,  286.9296],\n",
       "        [  30.5664,  168.4336]]))"
      ]
     },
     "execution_count": 74,
     "metadata": {},
     "output_type": "execute_result"
    }
   ],
   "source": [
    "stats.chi2_contingency(df_agent_signup)"
   ]
  },
  {
   "cell_type": "markdown",
   "metadata": {},
   "source": [
    "The first value (121.00714102355002) is the Chi-square value, followed by the p-value (3.2548690463183205e-25), then comes the degrees of freedom (4), and lastly it outputs the expected frequencies as an array. Since all of the expected frequencies are greater than 5, the chi2 test results can be trusted. We can reject the null hypothesis as the p-value is less than 0.05. Thus, the results indicate that there is a significant difference among different agents in signup per call "
   ]
  },
  {
   "cell_type": "markdown",
   "metadata": {},
   "source": [
    "### 7. A lead from which region is most likely to be “interested” in the product? "
   ]
  },
  {
   "cell_type": "code",
   "execution_count": 75,
   "metadata": {},
   "outputs": [
    {
     "data": {
      "text/html": [
       "<div>\n",
       "<style scoped>\n",
       "    .dataframe tbody tr th:only-of-type {\n",
       "        vertical-align: middle;\n",
       "    }\n",
       "\n",
       "    .dataframe tbody tr th {\n",
       "        vertical-align: top;\n",
       "    }\n",
       "\n",
       "    .dataframe thead th {\n",
       "        text-align: right;\n",
       "    }\n",
       "</style>\n",
       "<table border=\"1\" class=\"dataframe\">\n",
       "  <thead>\n",
       "    <tr style=\"text-align: right;\">\n",
       "      <th></th>\n",
       "      <th>Region</th>\n",
       "      <th>Reached Lead Count</th>\n",
       "    </tr>\n",
       "  </thead>\n",
       "  <tbody>\n",
       "    <tr>\n",
       "      <th>0</th>\n",
       "      <td>london</td>\n",
       "      <td>70</td>\n",
       "    </tr>\n",
       "    <tr>\n",
       "      <th>1</th>\n",
       "      <td>midlands</td>\n",
       "      <td>406</td>\n",
       "    </tr>\n",
       "    <tr>\n",
       "      <th>2</th>\n",
       "      <td>north-east</td>\n",
       "      <td>286</td>\n",
       "    </tr>\n",
       "    <tr>\n",
       "      <th>3</th>\n",
       "      <td>north-west</td>\n",
       "      <td>589</td>\n",
       "    </tr>\n",
       "    <tr>\n",
       "      <th>4</th>\n",
       "      <td>northern-ireland</td>\n",
       "      <td>82</td>\n",
       "    </tr>\n",
       "    <tr>\n",
       "      <th>5</th>\n",
       "      <td>scotland</td>\n",
       "      <td>291</td>\n",
       "    </tr>\n",
       "    <tr>\n",
       "      <th>6</th>\n",
       "      <td>south</td>\n",
       "      <td>140</td>\n",
       "    </tr>\n",
       "    <tr>\n",
       "      <th>7</th>\n",
       "      <td>south-east</td>\n",
       "      <td>269</td>\n",
       "    </tr>\n",
       "    <tr>\n",
       "      <th>8</th>\n",
       "      <td>south-west</td>\n",
       "      <td>273</td>\n",
       "    </tr>\n",
       "    <tr>\n",
       "      <th>9</th>\n",
       "      <td>wales</td>\n",
       "      <td>149</td>\n",
       "    </tr>\n",
       "  </tbody>\n",
       "</table>\n",
       "</div>"
      ],
      "text/plain": [
       "             Region  Reached Lead Count\n",
       "0            london                  70\n",
       "1          midlands                 406\n",
       "2        north-east                 286\n",
       "3        north-west                 589\n",
       "4  northern-ireland                  82\n",
       "5          scotland                 291\n",
       "6             south                 140\n",
       "7        south-east                 269\n",
       "8        south-west                 273\n",
       "9             wales                 149"
      ]
     },
     "execution_count": 75,
     "metadata": {},
     "output_type": "execute_result"
    }
   ],
   "source": [
    "df_region_reached_cnt = df_leads[df_leads['Valid Call Count']>=1].groupby(['Region']).size().reset_index(name='Reached Lead Count')\n",
    "df_region_reached_cnt # count the number of leads who has been reached out(received at least one call, excluding deadlines)"
   ]
  },
  {
   "cell_type": "code",
   "execution_count": 76,
   "metadata": {},
   "outputs": [
    {
     "data": {
      "text/html": [
       "<div>\n",
       "<style scoped>\n",
       "    .dataframe tbody tr th:only-of-type {\n",
       "        vertical-align: middle;\n",
       "    }\n",
       "\n",
       "    .dataframe tbody tr th {\n",
       "        vertical-align: top;\n",
       "    }\n",
       "\n",
       "    .dataframe thead th {\n",
       "        text-align: right;\n",
       "    }\n",
       "</style>\n",
       "<table border=\"1\" class=\"dataframe\">\n",
       "  <thead>\n",
       "    <tr style=\"text-align: right;\">\n",
       "      <th></th>\n",
       "      <th>Region</th>\n",
       "      <th>Lead w/ Interest Count</th>\n",
       "    </tr>\n",
       "  </thead>\n",
       "  <tbody>\n",
       "    <tr>\n",
       "      <th>0</th>\n",
       "      <td>london</td>\n",
       "      <td>56</td>\n",
       "    </tr>\n",
       "    <tr>\n",
       "      <th>1</th>\n",
       "      <td>midlands</td>\n",
       "      <td>150</td>\n",
       "    </tr>\n",
       "    <tr>\n",
       "      <th>2</th>\n",
       "      <td>north-east</td>\n",
       "      <td>139</td>\n",
       "    </tr>\n",
       "    <tr>\n",
       "      <th>3</th>\n",
       "      <td>north-west</td>\n",
       "      <td>365</td>\n",
       "    </tr>\n",
       "    <tr>\n",
       "      <th>4</th>\n",
       "      <td>northern-ireland</td>\n",
       "      <td>40</td>\n",
       "    </tr>\n",
       "    <tr>\n",
       "      <th>5</th>\n",
       "      <td>scotland</td>\n",
       "      <td>137</td>\n",
       "    </tr>\n",
       "    <tr>\n",
       "      <th>6</th>\n",
       "      <td>south</td>\n",
       "      <td>62</td>\n",
       "    </tr>\n",
       "    <tr>\n",
       "      <th>7</th>\n",
       "      <td>south-east</td>\n",
       "      <td>136</td>\n",
       "    </tr>\n",
       "    <tr>\n",
       "      <th>8</th>\n",
       "      <td>south-west</td>\n",
       "      <td>161</td>\n",
       "    </tr>\n",
       "    <tr>\n",
       "      <th>9</th>\n",
       "      <td>wales</td>\n",
       "      <td>50</td>\n",
       "    </tr>\n",
       "  </tbody>\n",
       "</table>\n",
       "</div>"
      ],
      "text/plain": [
       "             Region  Lead w/ Interest Count\n",
       "0            london                      56\n",
       "1          midlands                     150\n",
       "2        north-east                     139\n",
       "3        north-west                     365\n",
       "4  northern-ireland                      40\n",
       "5          scotland                     137\n",
       "6             south                      62\n",
       "7        south-east                     136\n",
       "8        south-west                     161\n",
       "9             wales                      50"
      ]
     },
     "execution_count": 76,
     "metadata": {},
     "output_type": "execute_result"
    }
   ],
   "source": [
    "df_region_int_cnt = df_leads[~df_leads['Agent - Call w/ Interest'].isnull()].groupby(['Region']).size().reset_index(name='Lead w/ Interest Count')\n",
    "df_region_int_cnt # count the number of leads show interest by region"
   ]
  },
  {
   "cell_type": "code",
   "execution_count": 77,
   "metadata": {},
   "outputs": [
    {
     "data": {
      "text/html": [
       "<div>\n",
       "<style scoped>\n",
       "    .dataframe tbody tr th:only-of-type {\n",
       "        vertical-align: middle;\n",
       "    }\n",
       "\n",
       "    .dataframe tbody tr th {\n",
       "        vertical-align: top;\n",
       "    }\n",
       "\n",
       "    .dataframe thead th {\n",
       "        text-align: right;\n",
       "    }\n",
       "</style>\n",
       "<table border=\"1\" class=\"dataframe\">\n",
       "  <thead>\n",
       "    <tr style=\"text-align: right;\">\n",
       "      <th></th>\n",
       "      <th>Region</th>\n",
       "      <th>Reached Lead Count</th>\n",
       "      <th>Lead w/ Interest Count</th>\n",
       "      <th>% of Leads w/ Interest</th>\n",
       "    </tr>\n",
       "  </thead>\n",
       "  <tbody>\n",
       "    <tr>\n",
       "      <th>0</th>\n",
       "      <td>london</td>\n",
       "      <td>70</td>\n",
       "      <td>56</td>\n",
       "      <td>0.800000</td>\n",
       "    </tr>\n",
       "    <tr>\n",
       "      <th>3</th>\n",
       "      <td>north-west</td>\n",
       "      <td>589</td>\n",
       "      <td>365</td>\n",
       "      <td>0.619694</td>\n",
       "    </tr>\n",
       "    <tr>\n",
       "      <th>8</th>\n",
       "      <td>south-west</td>\n",
       "      <td>273</td>\n",
       "      <td>161</td>\n",
       "      <td>0.589744</td>\n",
       "    </tr>\n",
       "    <tr>\n",
       "      <th>7</th>\n",
       "      <td>south-east</td>\n",
       "      <td>269</td>\n",
       "      <td>136</td>\n",
       "      <td>0.505576</td>\n",
       "    </tr>\n",
       "    <tr>\n",
       "      <th>4</th>\n",
       "      <td>northern-ireland</td>\n",
       "      <td>82</td>\n",
       "      <td>40</td>\n",
       "      <td>0.487805</td>\n",
       "    </tr>\n",
       "    <tr>\n",
       "      <th>2</th>\n",
       "      <td>north-east</td>\n",
       "      <td>286</td>\n",
       "      <td>139</td>\n",
       "      <td>0.486014</td>\n",
       "    </tr>\n",
       "    <tr>\n",
       "      <th>5</th>\n",
       "      <td>scotland</td>\n",
       "      <td>291</td>\n",
       "      <td>137</td>\n",
       "      <td>0.470790</td>\n",
       "    </tr>\n",
       "    <tr>\n",
       "      <th>6</th>\n",
       "      <td>south</td>\n",
       "      <td>140</td>\n",
       "      <td>62</td>\n",
       "      <td>0.442857</td>\n",
       "    </tr>\n",
       "    <tr>\n",
       "      <th>1</th>\n",
       "      <td>midlands</td>\n",
       "      <td>406</td>\n",
       "      <td>150</td>\n",
       "      <td>0.369458</td>\n",
       "    </tr>\n",
       "    <tr>\n",
       "      <th>9</th>\n",
       "      <td>wales</td>\n",
       "      <td>149</td>\n",
       "      <td>50</td>\n",
       "      <td>0.335570</td>\n",
       "    </tr>\n",
       "  </tbody>\n",
       "</table>\n",
       "</div>"
      ],
      "text/plain": [
       "             Region  Reached Lead Count  Lead w/ Interest Count  \\\n",
       "0            london                  70                      56   \n",
       "3        north-west                 589                     365   \n",
       "8        south-west                 273                     161   \n",
       "7        south-east                 269                     136   \n",
       "4  northern-ireland                  82                      40   \n",
       "2        north-east                 286                     139   \n",
       "5          scotland                 291                     137   \n",
       "6             south                 140                      62   \n",
       "1          midlands                 406                     150   \n",
       "9             wales                 149                      50   \n",
       "\n",
       "   % of Leads w/ Interest  \n",
       "0                0.800000  \n",
       "3                0.619694  \n",
       "8                0.589744  \n",
       "7                0.505576  \n",
       "4                0.487805  \n",
       "2                0.486014  \n",
       "5                0.470790  \n",
       "6                0.442857  \n",
       "1                0.369458  \n",
       "9                0.335570  "
      ]
     },
     "execution_count": 77,
     "metadata": {},
     "output_type": "execute_result"
    }
   ],
   "source": [
    "df_int_pct_region = pd.merge(df_region_reached_cnt,df_region_int_cnt, on = 'Region')\n",
    "df_int_pct_region['% of Leads w/ Interest'] = df_int_pct_region['Lead w/ Interest Count']/df_int_pct_region['Reached Lead Count']\n",
    "df_int_pct_region.sort_values(by = ['% of Leads w/ Interest'],ascending=False)"
   ]
  },
  {
   "cell_type": "markdown",
   "metadata": {},
   "source": [
    "Result: a lead from London is mostly likely to be interested in the product"
   ]
  },
  {
   "cell_type": "markdown",
   "metadata": {},
   "source": [
    "### 8. A lead from which sector is most likely to be “interested” in the product?"
   ]
  },
  {
   "cell_type": "code",
   "execution_count": 78,
   "metadata": {},
   "outputs": [
    {
     "data": {
      "text/html": [
       "<div>\n",
       "<style scoped>\n",
       "    .dataframe tbody tr th:only-of-type {\n",
       "        vertical-align: middle;\n",
       "    }\n",
       "\n",
       "    .dataframe tbody tr th {\n",
       "        vertical-align: top;\n",
       "    }\n",
       "\n",
       "    .dataframe thead th {\n",
       "        text-align: right;\n",
       "    }\n",
       "</style>\n",
       "<table border=\"1\" class=\"dataframe\">\n",
       "  <thead>\n",
       "    <tr style=\"text-align: right;\">\n",
       "      <th></th>\n",
       "      <th>Sector</th>\n",
       "      <th>Reached Lead Count</th>\n",
       "    </tr>\n",
       "  </thead>\n",
       "  <tbody>\n",
       "    <tr>\n",
       "      <th>0</th>\n",
       "      <td>agriculture</td>\n",
       "      <td>68</td>\n",
       "    </tr>\n",
       "    <tr>\n",
       "      <th>1</th>\n",
       "      <td>construction</td>\n",
       "      <td>145</td>\n",
       "    </tr>\n",
       "    <tr>\n",
       "      <th>2</th>\n",
       "      <td>consultancy</td>\n",
       "      <td>433</td>\n",
       "    </tr>\n",
       "    <tr>\n",
       "      <th>3</th>\n",
       "      <td>entertainment</td>\n",
       "      <td>237</td>\n",
       "    </tr>\n",
       "    <tr>\n",
       "      <th>4</th>\n",
       "      <td>food</td>\n",
       "      <td>543</td>\n",
       "    </tr>\n",
       "    <tr>\n",
       "      <th>5</th>\n",
       "      <td>retail</td>\n",
       "      <td>753</td>\n",
       "    </tr>\n",
       "    <tr>\n",
       "      <th>6</th>\n",
       "      <td>wholesale</td>\n",
       "      <td>376</td>\n",
       "    </tr>\n",
       "  </tbody>\n",
       "</table>\n",
       "</div>"
      ],
      "text/plain": [
       "          Sector  Reached Lead Count\n",
       "0    agriculture                  68\n",
       "1   construction                 145\n",
       "2    consultancy                 433\n",
       "3  entertainment                 237\n",
       "4           food                 543\n",
       "5         retail                 753\n",
       "6      wholesale                 376"
      ]
     },
     "execution_count": 78,
     "metadata": {},
     "output_type": "execute_result"
    }
   ],
   "source": [
    "df_sector_reached_cnt = df_leads[df_leads['Valid Call Count']>=1].groupby(['Sector']).size().reset_index(name='Reached Lead Count')\n",
    "df_sector_reached_cnt # count the number of leads who has been reached out(received at least one call, excluding deadlines)"
   ]
  },
  {
   "cell_type": "code",
   "execution_count": 79,
   "metadata": {},
   "outputs": [
    {
     "data": {
      "text/html": [
       "<div>\n",
       "<style scoped>\n",
       "    .dataframe tbody tr th:only-of-type {\n",
       "        vertical-align: middle;\n",
       "    }\n",
       "\n",
       "    .dataframe tbody tr th {\n",
       "        vertical-align: top;\n",
       "    }\n",
       "\n",
       "    .dataframe thead th {\n",
       "        text-align: right;\n",
       "    }\n",
       "</style>\n",
       "<table border=\"1\" class=\"dataframe\">\n",
       "  <thead>\n",
       "    <tr style=\"text-align: right;\">\n",
       "      <th></th>\n",
       "      <th>Sector</th>\n",
       "      <th>Lead w/ Interest Count</th>\n",
       "    </tr>\n",
       "  </thead>\n",
       "  <tbody>\n",
       "    <tr>\n",
       "      <th>0</th>\n",
       "      <td>agriculture</td>\n",
       "      <td>30</td>\n",
       "    </tr>\n",
       "    <tr>\n",
       "      <th>1</th>\n",
       "      <td>construction</td>\n",
       "      <td>46</td>\n",
       "    </tr>\n",
       "    <tr>\n",
       "      <th>2</th>\n",
       "      <td>consultancy</td>\n",
       "      <td>301</td>\n",
       "    </tr>\n",
       "    <tr>\n",
       "      <th>3</th>\n",
       "      <td>entertainment</td>\n",
       "      <td>135</td>\n",
       "    </tr>\n",
       "    <tr>\n",
       "      <th>4</th>\n",
       "      <td>food</td>\n",
       "      <td>261</td>\n",
       "    </tr>\n",
       "    <tr>\n",
       "      <th>5</th>\n",
       "      <td>retail</td>\n",
       "      <td>290</td>\n",
       "    </tr>\n",
       "    <tr>\n",
       "      <th>6</th>\n",
       "      <td>wholesale</td>\n",
       "      <td>233</td>\n",
       "    </tr>\n",
       "  </tbody>\n",
       "</table>\n",
       "</div>"
      ],
      "text/plain": [
       "          Sector  Lead w/ Interest Count\n",
       "0    agriculture                      30\n",
       "1   construction                      46\n",
       "2    consultancy                     301\n",
       "3  entertainment                     135\n",
       "4           food                     261\n",
       "5         retail                     290\n",
       "6      wholesale                     233"
      ]
     },
     "execution_count": 79,
     "metadata": {},
     "output_type": "execute_result"
    }
   ],
   "source": [
    "df_sector_int_cnt = df_leads[~df_leads['Agent - Call w/ Interest'].isnull()].groupby(['Sector']).size().reset_index(name='Lead w/ Interest Count')\n",
    "df_sector_int_cnt # count the number of leads show interest by region"
   ]
  },
  {
   "cell_type": "code",
   "execution_count": 80,
   "metadata": {},
   "outputs": [
    {
     "data": {
      "text/html": [
       "<div>\n",
       "<style scoped>\n",
       "    .dataframe tbody tr th:only-of-type {\n",
       "        vertical-align: middle;\n",
       "    }\n",
       "\n",
       "    .dataframe tbody tr th {\n",
       "        vertical-align: top;\n",
       "    }\n",
       "\n",
       "    .dataframe thead th {\n",
       "        text-align: right;\n",
       "    }\n",
       "</style>\n",
       "<table border=\"1\" class=\"dataframe\">\n",
       "  <thead>\n",
       "    <tr style=\"text-align: right;\">\n",
       "      <th></th>\n",
       "      <th>Sector</th>\n",
       "      <th>Reached Lead Count</th>\n",
       "      <th>Lead w/ Interest Count</th>\n",
       "      <th>% of Leads w/ Interest</th>\n",
       "    </tr>\n",
       "  </thead>\n",
       "  <tbody>\n",
       "    <tr>\n",
       "      <th>2</th>\n",
       "      <td>consultancy</td>\n",
       "      <td>433</td>\n",
       "      <td>301</td>\n",
       "      <td>0.695150</td>\n",
       "    </tr>\n",
       "    <tr>\n",
       "      <th>6</th>\n",
       "      <td>wholesale</td>\n",
       "      <td>376</td>\n",
       "      <td>233</td>\n",
       "      <td>0.619681</td>\n",
       "    </tr>\n",
       "    <tr>\n",
       "      <th>3</th>\n",
       "      <td>entertainment</td>\n",
       "      <td>237</td>\n",
       "      <td>135</td>\n",
       "      <td>0.569620</td>\n",
       "    </tr>\n",
       "    <tr>\n",
       "      <th>4</th>\n",
       "      <td>food</td>\n",
       "      <td>543</td>\n",
       "      <td>261</td>\n",
       "      <td>0.480663</td>\n",
       "    </tr>\n",
       "    <tr>\n",
       "      <th>0</th>\n",
       "      <td>agriculture</td>\n",
       "      <td>68</td>\n",
       "      <td>30</td>\n",
       "      <td>0.441176</td>\n",
       "    </tr>\n",
       "    <tr>\n",
       "      <th>5</th>\n",
       "      <td>retail</td>\n",
       "      <td>753</td>\n",
       "      <td>290</td>\n",
       "      <td>0.385126</td>\n",
       "    </tr>\n",
       "    <tr>\n",
       "      <th>1</th>\n",
       "      <td>construction</td>\n",
       "      <td>145</td>\n",
       "      <td>46</td>\n",
       "      <td>0.317241</td>\n",
       "    </tr>\n",
       "  </tbody>\n",
       "</table>\n",
       "</div>"
      ],
      "text/plain": [
       "          Sector  Reached Lead Count  Lead w/ Interest Count  \\\n",
       "2    consultancy                 433                     301   \n",
       "6      wholesale                 376                     233   \n",
       "3  entertainment                 237                     135   \n",
       "4           food                 543                     261   \n",
       "0    agriculture                  68                      30   \n",
       "5         retail                 753                     290   \n",
       "1   construction                 145                      46   \n",
       "\n",
       "   % of Leads w/ Interest  \n",
       "2                0.695150  \n",
       "6                0.619681  \n",
       "3                0.569620  \n",
       "4                0.480663  \n",
       "0                0.441176  \n",
       "5                0.385126  \n",
       "1                0.317241  "
      ]
     },
     "execution_count": 80,
     "metadata": {},
     "output_type": "execute_result"
    }
   ],
   "source": [
    "df_int_pct_sector = pd.merge(df_sector_reached_cnt,df_sector_int_cnt, on = 'Sector')\n",
    "df_int_pct_sector['% of Leads w/ Interest'] = df_int_pct_sector['Lead w/ Interest Count']/df_int_pct_sector['Reached Lead Count']\n",
    "df_int_pct_sector.sort_values(by = ['% of Leads w/ Interest'],ascending=False)"
   ]
  },
  {
   "cell_type": "markdown",
   "metadata": {},
   "source": [
    "Result: a lead from consultancy is mostly likely to be interested in the product"
   ]
  },
  {
   "cell_type": "markdown",
   "metadata": {},
   "source": [
    "### 9.Given a lead has already expressed interest and signed up, signups from which region are most likely to be approved? \n"
   ]
  },
  {
   "cell_type": "code",
   "execution_count": 81,
   "metadata": {},
   "outputs": [
    {
     "data": {
      "text/html": [
       "<div>\n",
       "<style scoped>\n",
       "    .dataframe tbody tr th:only-of-type {\n",
       "        vertical-align: middle;\n",
       "    }\n",
       "\n",
       "    .dataframe tbody tr th {\n",
       "        vertical-align: top;\n",
       "    }\n",
       "\n",
       "    .dataframe thead th {\n",
       "        text-align: right;\n",
       "    }\n",
       "</style>\n",
       "<table border=\"1\" class=\"dataframe\">\n",
       "  <thead>\n",
       "    <tr style=\"text-align: right;\">\n",
       "      <th>Approval Decision</th>\n",
       "      <th>APPROVED</th>\n",
       "      <th>REJECTED</th>\n",
       "    </tr>\n",
       "    <tr>\n",
       "      <th>Region</th>\n",
       "      <th></th>\n",
       "      <th></th>\n",
       "    </tr>\n",
       "  </thead>\n",
       "  <tbody>\n",
       "    <tr>\n",
       "      <th>london</th>\n",
       "      <td>2</td>\n",
       "      <td>23</td>\n",
       "    </tr>\n",
       "    <tr>\n",
       "      <th>midlands</th>\n",
       "      <td>26</td>\n",
       "      <td>65</td>\n",
       "    </tr>\n",
       "    <tr>\n",
       "      <th>north-east</th>\n",
       "      <td>20</td>\n",
       "      <td>62</td>\n",
       "    </tr>\n",
       "    <tr>\n",
       "      <th>north-west</th>\n",
       "      <td>95</td>\n",
       "      <td>115</td>\n",
       "    </tr>\n",
       "    <tr>\n",
       "      <th>northern-ireland</th>\n",
       "      <td>6</td>\n",
       "      <td>18</td>\n",
       "    </tr>\n",
       "    <tr>\n",
       "      <th>scotland</th>\n",
       "      <td>37</td>\n",
       "      <td>45</td>\n",
       "    </tr>\n",
       "    <tr>\n",
       "      <th>south</th>\n",
       "      <td>12</td>\n",
       "      <td>20</td>\n",
       "    </tr>\n",
       "    <tr>\n",
       "      <th>south-east</th>\n",
       "      <td>29</td>\n",
       "      <td>57</td>\n",
       "    </tr>\n",
       "    <tr>\n",
       "      <th>south-west</th>\n",
       "      <td>25</td>\n",
       "      <td>77</td>\n",
       "    </tr>\n",
       "    <tr>\n",
       "      <th>wales</th>\n",
       "      <td>5</td>\n",
       "      <td>29</td>\n",
       "    </tr>\n",
       "  </tbody>\n",
       "</table>\n",
       "</div>"
      ],
      "text/plain": [
       "Approval Decision  APPROVED  REJECTED\n",
       "Region                               \n",
       "london                    2        23\n",
       "midlands                 26        65\n",
       "north-east               20        62\n",
       "north-west               95       115\n",
       "northern-ireland          6        18\n",
       "scotland                 37        45\n",
       "south                    12        20\n",
       "south-east               29        57\n",
       "south-west               25        77\n",
       "wales                     5        29"
      ]
     },
     "execution_count": 81,
     "metadata": {},
     "output_type": "execute_result"
    }
   ],
   "source": [
    "df_approved_pct = df_leads[~df_leads['Approval Decision'].isnull()].groupby(['Region','Approval Decision']).size().unstack()\n",
    "df_approved_pct"
   ]
  },
  {
   "cell_type": "code",
   "execution_count": 82,
   "metadata": {},
   "outputs": [
    {
     "data": {
      "text/html": [
       "<div>\n",
       "<style scoped>\n",
       "    .dataframe tbody tr th:only-of-type {\n",
       "        vertical-align: middle;\n",
       "    }\n",
       "\n",
       "    .dataframe tbody tr th {\n",
       "        vertical-align: top;\n",
       "    }\n",
       "\n",
       "    .dataframe thead th {\n",
       "        text-align: right;\n",
       "    }\n",
       "</style>\n",
       "<table border=\"1\" class=\"dataframe\">\n",
       "  <thead>\n",
       "    <tr style=\"text-align: right;\">\n",
       "      <th>Approval Decision</th>\n",
       "      <th>APPROVED</th>\n",
       "      <th>REJECTED</th>\n",
       "      <th>% OF APPROVAL</th>\n",
       "    </tr>\n",
       "    <tr>\n",
       "      <th>Region</th>\n",
       "      <th></th>\n",
       "      <th></th>\n",
       "      <th></th>\n",
       "    </tr>\n",
       "  </thead>\n",
       "  <tbody>\n",
       "    <tr>\n",
       "      <th>north-west</th>\n",
       "      <td>95</td>\n",
       "      <td>115</td>\n",
       "      <td>0.452381</td>\n",
       "    </tr>\n",
       "    <tr>\n",
       "      <th>scotland</th>\n",
       "      <td>37</td>\n",
       "      <td>45</td>\n",
       "      <td>0.451220</td>\n",
       "    </tr>\n",
       "    <tr>\n",
       "      <th>south</th>\n",
       "      <td>12</td>\n",
       "      <td>20</td>\n",
       "      <td>0.375000</td>\n",
       "    </tr>\n",
       "    <tr>\n",
       "      <th>south-east</th>\n",
       "      <td>29</td>\n",
       "      <td>57</td>\n",
       "      <td>0.337209</td>\n",
       "    </tr>\n",
       "    <tr>\n",
       "      <th>midlands</th>\n",
       "      <td>26</td>\n",
       "      <td>65</td>\n",
       "      <td>0.285714</td>\n",
       "    </tr>\n",
       "    <tr>\n",
       "      <th>northern-ireland</th>\n",
       "      <td>6</td>\n",
       "      <td>18</td>\n",
       "      <td>0.250000</td>\n",
       "    </tr>\n",
       "    <tr>\n",
       "      <th>south-west</th>\n",
       "      <td>25</td>\n",
       "      <td>77</td>\n",
       "      <td>0.245098</td>\n",
       "    </tr>\n",
       "    <tr>\n",
       "      <th>north-east</th>\n",
       "      <td>20</td>\n",
       "      <td>62</td>\n",
       "      <td>0.243902</td>\n",
       "    </tr>\n",
       "    <tr>\n",
       "      <th>wales</th>\n",
       "      <td>5</td>\n",
       "      <td>29</td>\n",
       "      <td>0.147059</td>\n",
       "    </tr>\n",
       "    <tr>\n",
       "      <th>london</th>\n",
       "      <td>2</td>\n",
       "      <td>23</td>\n",
       "      <td>0.080000</td>\n",
       "    </tr>\n",
       "  </tbody>\n",
       "</table>\n",
       "</div>"
      ],
      "text/plain": [
       "Approval Decision  APPROVED  REJECTED  % OF APPROVAL\n",
       "Region                                              \n",
       "north-west               95       115       0.452381\n",
       "scotland                 37        45       0.451220\n",
       "south                    12        20       0.375000\n",
       "south-east               29        57       0.337209\n",
       "midlands                 26        65       0.285714\n",
       "northern-ireland          6        18       0.250000\n",
       "south-west               25        77       0.245098\n",
       "north-east               20        62       0.243902\n",
       "wales                     5        29       0.147059\n",
       "london                    2        23       0.080000"
      ]
     },
     "execution_count": 82,
     "metadata": {},
     "output_type": "execute_result"
    }
   ],
   "source": [
    "df_approved_pct['% OF APPROVAL'] = df_approved_pct.apply(lambda x: x['APPROVED']/x.sum(), axis=1)\n",
    "df_approved_pct = df_approved_pct.sort_values(['% OF APPROVAL'],ascending=False)\n",
    "df_approved_pct "
   ]
  },
  {
   "cell_type": "markdown",
   "metadata": {},
   "source": [
    "Result: signups from north-west are most likely to be approved"
   ]
  },
  {
   "cell_type": "markdown",
   "metadata": {},
   "source": [
    "#### Is this statistically significant? Why? "
   ]
  },
  {
   "cell_type": "code",
   "execution_count": 83,
   "metadata": {},
   "outputs": [
    {
     "data": {
      "text/html": [
       "<div>\n",
       "<style scoped>\n",
       "    .dataframe tbody tr th:only-of-type {\n",
       "        vertical-align: middle;\n",
       "    }\n",
       "\n",
       "    .dataframe tbody tr th {\n",
       "        vertical-align: top;\n",
       "    }\n",
       "\n",
       "    .dataframe thead th {\n",
       "        text-align: right;\n",
       "    }\n",
       "</style>\n",
       "<table border=\"1\" class=\"dataframe\">\n",
       "  <thead>\n",
       "    <tr style=\"text-align: right;\">\n",
       "      <th>Approval Decision</th>\n",
       "      <th>APPROVED</th>\n",
       "      <th>REJECTED</th>\n",
       "      <th>% OF APPROVAL</th>\n",
       "      <th>TOTAL SIGNUPS</th>\n",
       "    </tr>\n",
       "    <tr>\n",
       "      <th>Region</th>\n",
       "      <th></th>\n",
       "      <th></th>\n",
       "      <th></th>\n",
       "      <th></th>\n",
       "    </tr>\n",
       "  </thead>\n",
       "  <tbody>\n",
       "    <tr>\n",
       "      <th>north-west</th>\n",
       "      <td>95</td>\n",
       "      <td>115</td>\n",
       "      <td>0.452381</td>\n",
       "      <td>210</td>\n",
       "    </tr>\n",
       "    <tr>\n",
       "      <th>scotland</th>\n",
       "      <td>37</td>\n",
       "      <td>45</td>\n",
       "      <td>0.451220</td>\n",
       "      <td>82</td>\n",
       "    </tr>\n",
       "    <tr>\n",
       "      <th>south</th>\n",
       "      <td>12</td>\n",
       "      <td>20</td>\n",
       "      <td>0.375000</td>\n",
       "      <td>32</td>\n",
       "    </tr>\n",
       "    <tr>\n",
       "      <th>south-east</th>\n",
       "      <td>29</td>\n",
       "      <td>57</td>\n",
       "      <td>0.337209</td>\n",
       "      <td>86</td>\n",
       "    </tr>\n",
       "    <tr>\n",
       "      <th>midlands</th>\n",
       "      <td>26</td>\n",
       "      <td>65</td>\n",
       "      <td>0.285714</td>\n",
       "      <td>91</td>\n",
       "    </tr>\n",
       "    <tr>\n",
       "      <th>northern-ireland</th>\n",
       "      <td>6</td>\n",
       "      <td>18</td>\n",
       "      <td>0.250000</td>\n",
       "      <td>24</td>\n",
       "    </tr>\n",
       "    <tr>\n",
       "      <th>south-west</th>\n",
       "      <td>25</td>\n",
       "      <td>77</td>\n",
       "      <td>0.245098</td>\n",
       "      <td>102</td>\n",
       "    </tr>\n",
       "    <tr>\n",
       "      <th>north-east</th>\n",
       "      <td>20</td>\n",
       "      <td>62</td>\n",
       "      <td>0.243902</td>\n",
       "      <td>82</td>\n",
       "    </tr>\n",
       "    <tr>\n",
       "      <th>wales</th>\n",
       "      <td>5</td>\n",
       "      <td>29</td>\n",
       "      <td>0.147059</td>\n",
       "      <td>34</td>\n",
       "    </tr>\n",
       "    <tr>\n",
       "      <th>london</th>\n",
       "      <td>2</td>\n",
       "      <td>23</td>\n",
       "      <td>0.080000</td>\n",
       "      <td>25</td>\n",
       "    </tr>\n",
       "  </tbody>\n",
       "</table>\n",
       "</div>"
      ],
      "text/plain": [
       "Approval Decision  APPROVED  REJECTED  % OF APPROVAL  TOTAL SIGNUPS\n",
       "Region                                                             \n",
       "north-west               95       115       0.452381            210\n",
       "scotland                 37        45       0.451220             82\n",
       "south                    12        20       0.375000             32\n",
       "south-east               29        57       0.337209             86\n",
       "midlands                 26        65       0.285714             91\n",
       "northern-ireland          6        18       0.250000             24\n",
       "south-west               25        77       0.245098            102\n",
       "north-east               20        62       0.243902             82\n",
       "wales                     5        29       0.147059             34\n",
       "london                    2        23       0.080000             25"
      ]
     },
     "execution_count": 83,
     "metadata": {},
     "output_type": "execute_result"
    }
   ],
   "source": [
    "df_approved_pct['TOTAL SIGNUPS'] = df_approved_pct['APPROVED'] + df_approved_pct['REJECTED']\n",
    "df_approved_pct"
   ]
  },
  {
   "cell_type": "code",
   "execution_count": 84,
   "metadata": {},
   "outputs": [
    {
     "data": {
      "text/html": [
       "<div>\n",
       "<style scoped>\n",
       "    .dataframe tbody tr th:only-of-type {\n",
       "        vertical-align: middle;\n",
       "    }\n",
       "\n",
       "    .dataframe tbody tr th {\n",
       "        vertical-align: top;\n",
       "    }\n",
       "\n",
       "    .dataframe thead th {\n",
       "        text-align: right;\n",
       "    }\n",
       "</style>\n",
       "<table border=\"1\" class=\"dataframe\">\n",
       "  <thead>\n",
       "    <tr style=\"text-align: right;\">\n",
       "      <th>Approval Decision</th>\n",
       "      <th>APPROVED</th>\n",
       "      <th>REJECTED</th>\n",
       "      <th>% OF APPROVAL</th>\n",
       "      <th>TOTAL SIGNUPS</th>\n",
       "      <th>Standard_Error</th>\n",
       "      <th>95% CI Lower Band</th>\n",
       "      <th>95% CI Upper Band</th>\n",
       "    </tr>\n",
       "    <tr>\n",
       "      <th>Region</th>\n",
       "      <th></th>\n",
       "      <th></th>\n",
       "      <th></th>\n",
       "      <th></th>\n",
       "      <th></th>\n",
       "      <th></th>\n",
       "      <th></th>\n",
       "    </tr>\n",
       "  </thead>\n",
       "  <tbody>\n",
       "    <tr>\n",
       "      <th>north-west</th>\n",
       "      <td>95</td>\n",
       "      <td>115</td>\n",
       "      <td>0.452381</td>\n",
       "      <td>210</td>\n",
       "      <td>0.034346</td>\n",
       "      <td>0.385062</td>\n",
       "      <td>0.519700</td>\n",
       "    </tr>\n",
       "    <tr>\n",
       "      <th>scotland</th>\n",
       "      <td>37</td>\n",
       "      <td>45</td>\n",
       "      <td>0.451220</td>\n",
       "      <td>82</td>\n",
       "      <td>0.054952</td>\n",
       "      <td>0.343513</td>\n",
       "      <td>0.558926</td>\n",
       "    </tr>\n",
       "    <tr>\n",
       "      <th>south</th>\n",
       "      <td>12</td>\n",
       "      <td>20</td>\n",
       "      <td>0.375000</td>\n",
       "      <td>32</td>\n",
       "      <td>0.085582</td>\n",
       "      <td>0.207260</td>\n",
       "      <td>0.542740</td>\n",
       "    </tr>\n",
       "    <tr>\n",
       "      <th>south-east</th>\n",
       "      <td>29</td>\n",
       "      <td>57</td>\n",
       "      <td>0.337209</td>\n",
       "      <td>86</td>\n",
       "      <td>0.050979</td>\n",
       "      <td>0.237291</td>\n",
       "      <td>0.437128</td>\n",
       "    </tr>\n",
       "    <tr>\n",
       "      <th>midlands</th>\n",
       "      <td>26</td>\n",
       "      <td>65</td>\n",
       "      <td>0.285714</td>\n",
       "      <td>91</td>\n",
       "      <td>0.047357</td>\n",
       "      <td>0.192895</td>\n",
       "      <td>0.378533</td>\n",
       "    </tr>\n",
       "    <tr>\n",
       "      <th>northern-ireland</th>\n",
       "      <td>6</td>\n",
       "      <td>18</td>\n",
       "      <td>0.250000</td>\n",
       "      <td>24</td>\n",
       "      <td>0.088388</td>\n",
       "      <td>0.076759</td>\n",
       "      <td>0.423241</td>\n",
       "    </tr>\n",
       "    <tr>\n",
       "      <th>south-west</th>\n",
       "      <td>25</td>\n",
       "      <td>77</td>\n",
       "      <td>0.245098</td>\n",
       "      <td>102</td>\n",
       "      <td>0.042591</td>\n",
       "      <td>0.161620</td>\n",
       "      <td>0.328576</td>\n",
       "    </tr>\n",
       "    <tr>\n",
       "      <th>north-east</th>\n",
       "      <td>20</td>\n",
       "      <td>62</td>\n",
       "      <td>0.243902</td>\n",
       "      <td>82</td>\n",
       "      <td>0.047423</td>\n",
       "      <td>0.150953</td>\n",
       "      <td>0.336852</td>\n",
       "    </tr>\n",
       "    <tr>\n",
       "      <th>wales</th>\n",
       "      <td>5</td>\n",
       "      <td>29</td>\n",
       "      <td>0.147059</td>\n",
       "      <td>34</td>\n",
       "      <td>0.060739</td>\n",
       "      <td>0.028011</td>\n",
       "      <td>0.266107</td>\n",
       "    </tr>\n",
       "    <tr>\n",
       "      <th>london</th>\n",
       "      <td>2</td>\n",
       "      <td>23</td>\n",
       "      <td>0.080000</td>\n",
       "      <td>25</td>\n",
       "      <td>0.054259</td>\n",
       "      <td>-0.026347</td>\n",
       "      <td>0.186347</td>\n",
       "    </tr>\n",
       "  </tbody>\n",
       "</table>\n",
       "</div>"
      ],
      "text/plain": [
       "Approval Decision  APPROVED  REJECTED  % OF APPROVAL  TOTAL SIGNUPS  \\\n",
       "Region                                                                \n",
       "north-west               95       115       0.452381            210   \n",
       "scotland                 37        45       0.451220             82   \n",
       "south                    12        20       0.375000             32   \n",
       "south-east               29        57       0.337209             86   \n",
       "midlands                 26        65       0.285714             91   \n",
       "northern-ireland          6        18       0.250000             24   \n",
       "south-west               25        77       0.245098            102   \n",
       "north-east               20        62       0.243902             82   \n",
       "wales                     5        29       0.147059             34   \n",
       "london                    2        23       0.080000             25   \n",
       "\n",
       "Approval Decision  Standard_Error  95% CI Lower Band  95% CI Upper Band  \n",
       "Region                                                                   \n",
       "north-west               0.034346           0.385062           0.519700  \n",
       "scotland                 0.054952           0.343513           0.558926  \n",
       "south                    0.085582           0.207260           0.542740  \n",
       "south-east               0.050979           0.237291           0.437128  \n",
       "midlands                 0.047357           0.192895           0.378533  \n",
       "northern-ireland         0.088388           0.076759           0.423241  \n",
       "south-west               0.042591           0.161620           0.328576  \n",
       "north-east               0.047423           0.150953           0.336852  \n",
       "wales                    0.060739           0.028011           0.266107  \n",
       "london                   0.054259          -0.026347           0.186347  "
      ]
     },
     "execution_count": 84,
     "metadata": {},
     "output_type": "execute_result"
    }
   ],
   "source": [
    "df_approved_pct['Standard_Error'] = np.sqrt(df_approved_pct['% OF APPROVAL']* (1 - df_approved_pct['% OF APPROVAL']) /  df_approved_pct['TOTAL SIGNUPS'])\n",
    "df_approved_pct['95% CI Lower Band'] = df_approved_pct['% OF APPROVAL'] - 1.96*df_approved_pct['Standard_Error']\n",
    "df_approved_pct['95% CI Upper Band'] = df_approved_pct['% OF APPROVAL'] + 1.96*df_approved_pct['Standard_Error']\n",
    "df_approved_pct"
   ]
  },
  {
   "cell_type": "code",
   "execution_count": 85,
   "metadata": {},
   "outputs": [
    {
     "data": {
      "text/plain": [
       "<matplotlib.axes._subplots.AxesSubplot at 0x18ef04e5708>"
      ]
     },
     "execution_count": 85,
     "metadata": {},
     "output_type": "execute_result"
    },
    {
     "data": {
      "image/png": "[encoded data removed]",
      "text/plain": [
       "<Figure size 432x288 with 1 Axes>"
      ]
     },
     "metadata": {
      "needs_background": "light"
     },
     "output_type": "display_data"
    }
   ],
   "source": [
    "yerr=[df_approved_pct['% OF APPROVAL']-df_approved_pct['95% CI Lower Band'], df_approved_pct['95% CI Upper Band']-df_approved_pct['% OF APPROVAL']]\n",
    "df_approved_pct.plot.bar(y='% OF APPROVAL', yerr=yerr)\n",
    "# visulize 95% confidence interval of each region"
   ]
  },
  {
   "cell_type": "markdown",
   "metadata": {},
   "source": [
    "From initial exploration,approval rate is quite different for each region. The next step is to perform chi-square test of independence."
   ]
  },
  {
   "cell_type": "code",
   "execution_count": 86,
   "metadata": {},
   "outputs": [
    {
     "data": {
      "text/plain": [
       "(39.42630068904591,\n",
       " 9.650022101968577e-06,\n",
       " 9,\n",
       " array([[ 70.2734375 , 139.7265625 ],\n",
       "        [ 27.44010417,  54.55989583],\n",
       "        [ 10.70833333,  21.29166667],\n",
       "        [ 28.77864583,  57.22135417],\n",
       "        [ 30.45182292,  60.54817708],\n",
       "        [  8.03125   ,  15.96875   ],\n",
       "        [ 34.1328125 ,  67.8671875 ],\n",
       "        [ 27.44010417,  54.55989583],\n",
       "        [ 11.37760417,  22.62239583],\n",
       "        [  8.36588542,  16.63411458]]))"
      ]
     },
     "execution_count": 86,
     "metadata": {},
     "output_type": "execute_result"
    }
   ],
   "source": [
    "#perform chi square test of independence\n",
    "stats.chi2_contingency(df_approved_pct[['APPROVED','REJECTED']])"
   ]
  },
  {
   "cell_type": "markdown",
   "metadata": {},
   "source": [
    "Since all of the expected frequencies are greater than 5, the chi2 test results can be trusted. We can reject the null hypothesis as the p-value is less than 0.05. Thus, the results indicate that there is a significant difference among different region in approval rate"
   ]
  },
  {
   "cell_type": "markdown",
   "metadata": {},
   "source": [
    "### 10.Suppose you wanted to pick the 1000 leads most likely to sign up (who have not been called so far), based only on age, sector and region.\n",
    "* a.\tWhat criteria would you use to pick those leads? [10]\n",
    "* b.\tIn what sense are those an optimal criteria set? [3]\n",
    "* c.\tHow many signups would you expect to get based on those called leads, assuming they were being called by random agents? [3]\n",
    "* d.\tIf you could choose the agents to make those calls, who would you choose? Why?"
   ]
  },
  {
   "cell_type": "code",
   "execution_count": 87,
   "metadata": {},
   "outputs": [
    {
     "data": {
      "text/html": [
       "<div>\n",
       "<style scoped>\n",
       "    .dataframe tbody tr th:only-of-type {\n",
       "        vertical-align: middle;\n",
       "    }\n",
       "\n",
       "    .dataframe tbody tr th {\n",
       "        vertical-align: top;\n",
       "    }\n",
       "\n",
       "    .dataframe thead th {\n",
       "        text-align: right;\n",
       "    }\n",
       "</style>\n",
       "<table border=\"1\" class=\"dataframe\">\n",
       "  <thead>\n",
       "    <tr style=\"text-align: right;\">\n",
       "      <th></th>\n",
       "      <th>Region</th>\n",
       "      <th>Sector</th>\n",
       "      <th>Age</th>\n",
       "      <th>Contacted</th>\n",
       "      <th>Signup</th>\n",
       "    </tr>\n",
       "  </thead>\n",
       "  <tbody>\n",
       "    <tr>\n",
       "      <th>0</th>\n",
       "      <td>north-west</td>\n",
       "      <td>wholesale</td>\n",
       "      <td>19</td>\n",
       "      <td>0.0</td>\n",
       "      <td>0.0</td>\n",
       "    </tr>\n",
       "    <tr>\n",
       "      <th>1</th>\n",
       "      <td>north-west</td>\n",
       "      <td>retail</td>\n",
       "      <td>38</td>\n",
       "      <td>1.0</td>\n",
       "      <td>1.0</td>\n",
       "    </tr>\n",
       "    <tr>\n",
       "      <th>2</th>\n",
       "      <td>midlands</td>\n",
       "      <td>agriculture</td>\n",
       "      <td>40</td>\n",
       "      <td>0.0</td>\n",
       "      <td>0.0</td>\n",
       "    </tr>\n",
       "    <tr>\n",
       "      <th>3</th>\n",
       "      <td>scotland</td>\n",
       "      <td>food</td>\n",
       "      <td>23</td>\n",
       "      <td>0.0</td>\n",
       "      <td>0.0</td>\n",
       "    </tr>\n",
       "    <tr>\n",
       "      <th>4</th>\n",
       "      <td>midlands</td>\n",
       "      <td>retail</td>\n",
       "      <td>18</td>\n",
       "      <td>1.0</td>\n",
       "      <td>0.0</td>\n",
       "    </tr>\n",
       "  </tbody>\n",
       "</table>\n",
       "</div>"
      ],
      "text/plain": [
       "       Region       Sector  Age  Contacted  Signup\n",
       "0  north-west    wholesale   19        0.0     0.0\n",
       "1  north-west       retail   38        1.0     1.0\n",
       "2    midlands  agriculture   40        0.0     0.0\n",
       "3    scotland         food   23        0.0     0.0\n",
       "4    midlands       retail   18        1.0     0.0"
      ]
     },
     "execution_count": 87,
     "metadata": {},
     "output_type": "execute_result"
    }
   ],
   "source": [
    "#prepare data for logistic regression\n",
    "df_leads_sub = df_leads.loc[:, ['Region','Sector','Age','Valid Call Count','Approval Decision']]\n",
    "\n",
    "#create contacted column - yes/no\n",
    "df_leads_sub['Contacted'] = 0.0 \n",
    "df_leads_sub.loc[df_leads_sub['Valid Call Count'] >=1, 'Contacted'] = 1.0\n",
    "\n",
    "#create signup column - yes/no\n",
    "df_leads_sub['Signup'] = 0.0\n",
    "df_leads_sub.loc[~df_leads_sub['Approval Decision'].isnull(), 'Signup'] = 1.0\n",
    "\n",
    "#drop valid call count and approval decision\n",
    "df_leads_sub = df_leads_sub.drop(columns=['Valid Call Count', 'Approval Decision'])\n",
    "df_leads_sub.head()"
   ]
  },
  {
   "cell_type": "code",
   "execution_count": 88,
   "metadata": {},
   "outputs": [
    {
     "data": {
      "text/plain": [
       "(9722, 5)"
      ]
     },
     "execution_count": 88,
     "metadata": {},
     "output_type": "execute_result"
    }
   ],
   "source": [
    "#select age bewteen 18-90\n",
    "df_leads_age_sub = df_leads_sub[(df_leads_sub['Age']>=18) & (df_leads_sub['Age']<=90)]\n",
    "df_leads_age_sub.shape"
   ]
  },
  {
   "cell_type": "code",
   "execution_count": 89,
   "metadata": {},
   "outputs": [
    {
     "name": "stderr",
     "output_type": "stream",
     "text": [
      "C:\\Users\\lenovo\\miniconda3\\lib\\site-packages\\ipykernel_launcher.py:2: SettingWithCopyWarning: \n",
      "A value is trying to be set on a copy of a slice from a DataFrame.\n",
      "Try using .loc[row_indexer,col_indexer] = value instead\n",
      "\n",
      "See the caveats in the documentation: https://pandas.pydata.org/pandas-docs/stable/user_guide/indexing.html#returning-a-view-versus-a-copy\n",
      "  \n"
     ]
    },
    {
     "data": {
      "text/plain": [
       "(18, 25]    2758\n",
       "(25, 35]    2654\n",
       "(35, 45]    1616\n",
       "(45, 55]     970\n",
       "(55, 65]     588\n",
       "(65, 75]     351\n",
       "(75, 85]     217\n",
       "(85, 90]      73\n",
       "Name: Age Group, dtype: int64"
      ]
     },
     "execution_count": 89,
     "metadata": {},
     "output_type": "execute_result"
    }
   ],
   "source": [
    "# explore the relationship between age and signup % \n",
    "df_leads_age_sub['Age Group'] = pd.cut(df_leads_age_sub.loc[:,'Age'], [18, 25, 35, 45, 55, 65, 75, 85, 90])\n",
    "df_leads_age_sub['Age Group'].value_counts()"
   ]
  },
  {
   "cell_type": "code",
   "execution_count": 90,
   "metadata": {},
   "outputs": [
    {
     "name": "stdout",
     "output_type": "stream",
     "text": [
      "(2477, 6)\n",
      "(7245, 6)\n"
     ]
    }
   ],
   "source": [
    "df_leads_age_contacted = df_leads_age_sub[df_leads_age_sub['Contacted']==1]\n",
    "df_leads_age_not_contacted = df_leads_age_sub[df_leads_age_sub['Contacted']==0]\n",
    "print(df_leads_age_contacted.shape)\n",
    "print(df_leads_age_not_contacted.shape)"
   ]
  },
  {
   "cell_type": "code",
   "execution_count": 91,
   "metadata": {},
   "outputs": [
    {
     "name": "stderr",
     "output_type": "stream",
     "text": [
      "C:\\Users\\lenovo\\miniconda3\\lib\\site-packages\\ipykernel_launcher.py:1: FutureWarning: Indexing with multiple keys (implicitly converted to a tuple of keys) will be deprecated, use a list instead.\n",
      "  \"\"\"Entry point for launching an IPython kernel.\n"
     ]
    },
    {
     "data": {
      "text/plain": [
       "<matplotlib.axes._subplots.AxesSubplot at 0x18ef057f4c8>"
      ]
     },
     "execution_count": 91,
     "metadata": {},
     "output_type": "execute_result"
    },
    {
     "data": {
      "image/png": "[encoded data removed]",
      "text/plain": [
       "<Figure size 432x288 with 1 Axes>"
      ]
     },
     "metadata": {
      "needs_background": "light"
     },
     "output_type": "display_data"
    }
   ],
   "source": [
    "df_leads_signup_pct = df_leads_age_contacted.groupby('Age Group')['Contacted','Signup'].sum()\n",
    "df_leads_signup_pct['Signup % (out of Contacted)'] = df_leads_signup_pct['Signup']/df_leads_signup_pct['Contacted']\n",
    "df_leads_signup_pct\n",
    "df_leads_signup_pct['Signup % (out of Contacted)'].plot(kind='bar')"
   ]
  },
  {
   "cell_type": "markdown",
   "metadata": {},
   "source": [
    "There is no apparent association between age and signup rate "
   ]
  },
  {
   "cell_type": "code",
   "execution_count": 92,
   "metadata": {},
   "outputs": [
    {
     "data": {
      "text/html": [
       "<table class=\"simpletable\">\n",
       "<caption>Generalized Linear Model Regression Results</caption>\n",
       "<tr>\n",
       "  <th>Dep. Variable:</th>        <td>Signup</td>      <th>  No. Observations:  </th>  <td>  2477</td> \n",
       "</tr>\n",
       "<tr>\n",
       "  <th>Model:</th>                  <td>GLM</td>       <th>  Df Residuals:      </th>  <td>  2460</td> \n",
       "</tr>\n",
       "<tr>\n",
       "  <th>Model Family:</th>        <td>Binomial</td>     <th>  Df Model:          </th>  <td>    16</td> \n",
       "</tr>\n",
       "<tr>\n",
       "  <th>Link Function:</th>         <td>logit</td>      <th>  Scale:             </th> <td>  1.0000</td>\n",
       "</tr>\n",
       "<tr>\n",
       "  <th>Method:</th>                <td>IRLS</td>       <th>  Log-Likelihood:    </th> <td> -1466.3</td>\n",
       "</tr>\n",
       "<tr>\n",
       "  <th>Date:</th>            <td>Wed, 27 May 2020</td> <th>  Deviance:          </th> <td>  2932.6</td>\n",
       "</tr>\n",
       "<tr>\n",
       "  <th>Time:</th>                <td>17:52:40</td>     <th>  Pearson chi2:      </th> <td>2.48e+03</td>\n",
       "</tr>\n",
       "<tr>\n",
       "  <th>No. Iterations:</th>          <td>4</td>        <th>                     </th>     <td> </td>   \n",
       "</tr>\n",
       "<tr>\n",
       "  <th>Covariance Type:</th>     <td>nonrobust</td>    <th>                     </th>     <td> </td>   \n",
       "</tr>\n",
       "</table>\n",
       "<table class=\"simpletable\">\n",
       "<tr>\n",
       "               <td></td>                 <th>coef</th>     <th>std err</th>      <th>z</th>      <th>P>|z|</th>  <th>[0.025</th>    <th>0.975]</th>  \n",
       "</tr>\n",
       "<tr>\n",
       "  <th>Intercept</th>                  <td>   -1.1083</td> <td>    0.416</td> <td>   -2.667</td> <td> 0.008</td> <td>   -1.923</td> <td>   -0.294</td>\n",
       "</tr>\n",
       "<tr>\n",
       "  <th>Sector[T.construction]</th>     <td>   -0.2397</td> <td>    0.384</td> <td>   -0.624</td> <td> 0.533</td> <td>   -0.993</td> <td>    0.514</td>\n",
       "</tr>\n",
       "<tr>\n",
       "  <th>Sector[T.consultancy]</th>      <td>    0.8704</td> <td>    0.328</td> <td>    2.654</td> <td> 0.008</td> <td>    0.228</td> <td>    1.513</td>\n",
       "</tr>\n",
       "<tr>\n",
       "  <th>Sector[T.entertainment]</th>    <td>    0.7162</td> <td>    0.341</td> <td>    2.098</td> <td> 0.036</td> <td>    0.047</td> <td>    1.385</td>\n",
       "</tr>\n",
       "<tr>\n",
       "  <th>Sector[T.food]</th>             <td>    0.6791</td> <td>    0.326</td> <td>    2.085</td> <td> 0.037</td> <td>    0.041</td> <td>    1.318</td>\n",
       "</tr>\n",
       "<tr>\n",
       "  <th>Sector[T.retail]</th>           <td>    0.1771</td> <td>    0.324</td> <td>    0.547</td> <td> 0.585</td> <td>   -0.458</td> <td>    0.812</td>\n",
       "</tr>\n",
       "<tr>\n",
       "  <th>Sector[T.wholesale]</th>        <td>    0.9072</td> <td>    0.330</td> <td>    2.749</td> <td> 0.006</td> <td>    0.260</td> <td>    1.554</td>\n",
       "</tr>\n",
       "<tr>\n",
       "  <th>Region[T.midlands]</th>         <td>   -0.6302</td> <td>    0.285</td> <td>   -2.210</td> <td> 0.027</td> <td>   -1.189</td> <td>   -0.071</td>\n",
       "</tr>\n",
       "<tr>\n",
       "  <th>Region[T.north-east]</th>       <td>   -0.3565</td> <td>    0.292</td> <td>   -1.221</td> <td> 0.222</td> <td>   -0.929</td> <td>    0.216</td>\n",
       "</tr>\n",
       "<tr>\n",
       "  <th>Region[T.north-west]</th>       <td>    0.0478</td> <td>    0.274</td> <td>    0.175</td> <td> 0.861</td> <td>   -0.489</td> <td>    0.585</td>\n",
       "</tr>\n",
       "<tr>\n",
       "  <th>Region[T.northern-ireland]</th> <td>   -0.4196</td> <td>    0.366</td> <td>   -1.147</td> <td> 0.251</td> <td>   -1.136</td> <td>    0.297</td>\n",
       "</tr>\n",
       "<tr>\n",
       "  <th>Region[T.scotland]</th>         <td>   -0.3432</td> <td>    0.291</td> <td>   -1.179</td> <td> 0.238</td> <td>   -0.913</td> <td>    0.227</td>\n",
       "</tr>\n",
       "<tr>\n",
       "  <th>Region[T.south]</th>            <td>   -0.5904</td> <td>    0.329</td> <td>   -1.793</td> <td> 0.073</td> <td>   -1.236</td> <td>    0.055</td>\n",
       "</tr>\n",
       "<tr>\n",
       "  <th>Region[T.south-east]</th>       <td>   -0.1993</td> <td>    0.292</td> <td>   -0.683</td> <td> 0.495</td> <td>   -0.771</td> <td>    0.373</td>\n",
       "</tr>\n",
       "<tr>\n",
       "  <th>Region[T.south-west]</th>       <td>    0.1253</td> <td>    0.289</td> <td>    0.434</td> <td> 0.665</td> <td>   -0.441</td> <td>    0.691</td>\n",
       "</tr>\n",
       "<tr>\n",
       "  <th>Region[T.wales]</th>            <td>   -0.5573</td> <td>    0.326</td> <td>   -1.708</td> <td> 0.088</td> <td>   -1.197</td> <td>    0.082</td>\n",
       "</tr>\n",
       "<tr>\n",
       "  <th>Age</th>                        <td>   -0.0015</td> <td>    0.003</td> <td>   -0.508</td> <td> 0.612</td> <td>   -0.007</td> <td>    0.004</td>\n",
       "</tr>\n",
       "</table>"
      ],
      "text/plain": [
       "<class 'statsmodels.iolib.summary.Summary'>\n",
       "\"\"\"\n",
       "                 Generalized Linear Model Regression Results                  \n",
       "==============================================================================\n",
       "Dep. Variable:                 Signup   No. Observations:                 2477\n",
       "Model:                            GLM   Df Residuals:                     2460\n",
       "Model Family:                Binomial   Df Model:                           16\n",
       "Link Function:                  logit   Scale:                          1.0000\n",
       "Method:                          IRLS   Log-Likelihood:                -1466.3\n",
       "Date:                Wed, 27 May 2020   Deviance:                       2932.6\n",
       "Time:                        17:52:40   Pearson chi2:                 2.48e+03\n",
       "No. Iterations:                     4                                         \n",
       "Covariance Type:            nonrobust                                         \n",
       "==============================================================================================\n",
       "                                 coef    std err          z      P>|z|      [0.025      0.975]\n",
       "----------------------------------------------------------------------------------------------\n",
       "Intercept                     -1.1083      0.416     -2.667      0.008      -1.923      -0.294\n",
       "Sector[T.construction]        -0.2397      0.384     -0.624      0.533      -0.993       0.514\n",
       "Sector[T.consultancy]          0.8704      0.328      2.654      0.008       0.228       1.513\n",
       "Sector[T.entertainment]        0.7162      0.341      2.098      0.036       0.047       1.385\n",
       "Sector[T.food]                 0.6791      0.326      2.085      0.037       0.041       1.318\n",
       "Sector[T.retail]               0.1771      0.324      0.547      0.585      -0.458       0.812\n",
       "Sector[T.wholesale]            0.9072      0.330      2.749      0.006       0.260       1.554\n",
       "Region[T.midlands]            -0.6302      0.285     -2.210      0.027      -1.189      -0.071\n",
       "Region[T.north-east]          -0.3565      0.292     -1.221      0.222      -0.929       0.216\n",
       "Region[T.north-west]           0.0478      0.274      0.175      0.861      -0.489       0.585\n",
       "Region[T.northern-ireland]    -0.4196      0.366     -1.147      0.251      -1.136       0.297\n",
       "Region[T.scotland]            -0.3432      0.291     -1.179      0.238      -0.913       0.227\n",
       "Region[T.south]               -0.5904      0.329     -1.793      0.073      -1.236       0.055\n",
       "Region[T.south-east]          -0.1993      0.292     -0.683      0.495      -0.771       0.373\n",
       "Region[T.south-west]           0.1253      0.289      0.434      0.665      -0.441       0.691\n",
       "Region[T.wales]               -0.5573      0.326     -1.708      0.088      -1.197       0.082\n",
       "Age                           -0.0015      0.003     -0.508      0.612      -0.007       0.004\n",
       "==============================================================================================\n",
       "\"\"\""
      ]
     },
     "execution_count": 92,
     "metadata": {},
     "output_type": "execute_result"
    }
   ],
   "source": [
    "model = sm.GLM.from_formula(\"Signup ~ Age + Sector + Region\", family=sm.families.Binomial(), data=df_leads_age_contacted)\n",
    "result = model.fit()\n",
    "result.summary()"
   ]
  },
  {
   "cell_type": "code",
   "execution_count": 93,
   "metadata": {},
   "outputs": [],
   "source": [
    "#create dummy variables for categorical variables - sector \n",
    "cat_vars=['Sector']\n",
    "for var in cat_vars:\n",
    "    cat_list='var'+'_'+var\n",
    "    cat_list = pd.get_dummies(df_leads_sub[var], prefix=var)\n",
    "    data1=df_leads_sub.join(cat_list)\n",
    "    df_leads_sub_model=data1"
   ]
  },
  {
   "cell_type": "code",
   "execution_count": 94,
   "metadata": {},
   "outputs": [
    {
     "data": {
      "text/html": [
       "<div>\n",
       "<style scoped>\n",
       "    .dataframe tbody tr th:only-of-type {\n",
       "        vertical-align: middle;\n",
       "    }\n",
       "\n",
       "    .dataframe tbody tr th {\n",
       "        vertical-align: top;\n",
       "    }\n",
       "\n",
       "    .dataframe thead th {\n",
       "        text-align: right;\n",
       "    }\n",
       "</style>\n",
       "<table border=\"1\" class=\"dataframe\">\n",
       "  <thead>\n",
       "    <tr style=\"text-align: right;\">\n",
       "      <th></th>\n",
       "      <th>Region</th>\n",
       "      <th>Sector</th>\n",
       "      <th>Age</th>\n",
       "      <th>Contacted</th>\n",
       "      <th>Signup</th>\n",
       "      <th>Sector_agriculture</th>\n",
       "      <th>Sector_construction</th>\n",
       "      <th>Sector_consultancy</th>\n",
       "      <th>Sector_entertainment</th>\n",
       "      <th>Sector_food</th>\n",
       "      <th>Sector_retail</th>\n",
       "      <th>Sector_wholesale</th>\n",
       "    </tr>\n",
       "  </thead>\n",
       "  <tbody>\n",
       "    <tr>\n",
       "      <th>0</th>\n",
       "      <td>north-west</td>\n",
       "      <td>wholesale</td>\n",
       "      <td>19</td>\n",
       "      <td>0.0</td>\n",
       "      <td>0.0</td>\n",
       "      <td>0</td>\n",
       "      <td>0</td>\n",
       "      <td>0</td>\n",
       "      <td>0</td>\n",
       "      <td>0</td>\n",
       "      <td>0</td>\n",
       "      <td>1</td>\n",
       "    </tr>\n",
       "    <tr>\n",
       "      <th>1</th>\n",
       "      <td>north-west</td>\n",
       "      <td>retail</td>\n",
       "      <td>38</td>\n",
       "      <td>1.0</td>\n",
       "      <td>1.0</td>\n",
       "      <td>0</td>\n",
       "      <td>0</td>\n",
       "      <td>0</td>\n",
       "      <td>0</td>\n",
       "      <td>0</td>\n",
       "      <td>1</td>\n",
       "      <td>0</td>\n",
       "    </tr>\n",
       "    <tr>\n",
       "      <th>2</th>\n",
       "      <td>midlands</td>\n",
       "      <td>agriculture</td>\n",
       "      <td>40</td>\n",
       "      <td>0.0</td>\n",
       "      <td>0.0</td>\n",
       "      <td>1</td>\n",
       "      <td>0</td>\n",
       "      <td>0</td>\n",
       "      <td>0</td>\n",
       "      <td>0</td>\n",
       "      <td>0</td>\n",
       "      <td>0</td>\n",
       "    </tr>\n",
       "    <tr>\n",
       "      <th>3</th>\n",
       "      <td>scotland</td>\n",
       "      <td>food</td>\n",
       "      <td>23</td>\n",
       "      <td>0.0</td>\n",
       "      <td>0.0</td>\n",
       "      <td>0</td>\n",
       "      <td>0</td>\n",
       "      <td>0</td>\n",
       "      <td>0</td>\n",
       "      <td>1</td>\n",
       "      <td>0</td>\n",
       "      <td>0</td>\n",
       "    </tr>\n",
       "    <tr>\n",
       "      <th>4</th>\n",
       "      <td>midlands</td>\n",
       "      <td>retail</td>\n",
       "      <td>18</td>\n",
       "      <td>1.0</td>\n",
       "      <td>0.0</td>\n",
       "      <td>0</td>\n",
       "      <td>0</td>\n",
       "      <td>0</td>\n",
       "      <td>0</td>\n",
       "      <td>0</td>\n",
       "      <td>1</td>\n",
       "      <td>0</td>\n",
       "    </tr>\n",
       "  </tbody>\n",
       "</table>\n",
       "</div>"
      ],
      "text/plain": [
       "       Region       Sector  Age  Contacted  Signup  Sector_agriculture  \\\n",
       "0  north-west    wholesale   19        0.0     0.0                   0   \n",
       "1  north-west       retail   38        1.0     1.0                   0   \n",
       "2    midlands  agriculture   40        0.0     0.0                   1   \n",
       "3    scotland         food   23        0.0     0.0                   0   \n",
       "4    midlands       retail   18        1.0     0.0                   0   \n",
       "\n",
       "   Sector_construction  Sector_consultancy  Sector_entertainment  Sector_food  \\\n",
       "0                    0                   0                     0            0   \n",
       "1                    0                   0                     0            0   \n",
       "2                    0                   0                     0            0   \n",
       "3                    0                   0                     0            1   \n",
       "4                    0                   0                     0            0   \n",
       "\n",
       "   Sector_retail  Sector_wholesale  \n",
       "0              0                 1  \n",
       "1              1                 0  \n",
       "2              0                 0  \n",
       "3              0                 0  \n",
       "4              1                 0  "
      ]
     },
     "execution_count": 94,
     "metadata": {},
     "output_type": "execute_result"
    }
   ],
   "source": [
    "df_leads_sub_model.head()"
   ]
  },
  {
   "cell_type": "code",
   "execution_count": 95,
   "metadata": {},
   "outputs": [
    {
     "data": {
      "text/html": [
       "<div>\n",
       "<style scoped>\n",
       "    .dataframe tbody tr th:only-of-type {\n",
       "        vertical-align: middle;\n",
       "    }\n",
       "\n",
       "    .dataframe tbody tr th {\n",
       "        vertical-align: top;\n",
       "    }\n",
       "\n",
       "    .dataframe thead th {\n",
       "        text-align: right;\n",
       "    }\n",
       "</style>\n",
       "<table border=\"1\" class=\"dataframe\">\n",
       "  <thead>\n",
       "    <tr style=\"text-align: right;\">\n",
       "      <th></th>\n",
       "      <th>Sector_consultancy</th>\n",
       "      <th>Sector_entertainment</th>\n",
       "      <th>Sector_food</th>\n",
       "      <th>Sector_wholesale</th>\n",
       "      <th>Contacted</th>\n",
       "      <th>Signup</th>\n",
       "    </tr>\n",
       "  </thead>\n",
       "  <tbody>\n",
       "    <tr>\n",
       "      <th>0</th>\n",
       "      <td>0</td>\n",
       "      <td>0</td>\n",
       "      <td>0</td>\n",
       "      <td>1</td>\n",
       "      <td>0.0</td>\n",
       "      <td>0.0</td>\n",
       "    </tr>\n",
       "    <tr>\n",
       "      <th>1</th>\n",
       "      <td>0</td>\n",
       "      <td>0</td>\n",
       "      <td>0</td>\n",
       "      <td>0</td>\n",
       "      <td>1.0</td>\n",
       "      <td>1.0</td>\n",
       "    </tr>\n",
       "    <tr>\n",
       "      <th>2</th>\n",
       "      <td>0</td>\n",
       "      <td>0</td>\n",
       "      <td>0</td>\n",
       "      <td>0</td>\n",
       "      <td>0.0</td>\n",
       "      <td>0.0</td>\n",
       "    </tr>\n",
       "    <tr>\n",
       "      <th>3</th>\n",
       "      <td>0</td>\n",
       "      <td>0</td>\n",
       "      <td>1</td>\n",
       "      <td>0</td>\n",
       "      <td>0.0</td>\n",
       "      <td>0.0</td>\n",
       "    </tr>\n",
       "    <tr>\n",
       "      <th>4</th>\n",
       "      <td>0</td>\n",
       "      <td>0</td>\n",
       "      <td>0</td>\n",
       "      <td>0</td>\n",
       "      <td>1.0</td>\n",
       "      <td>0.0</td>\n",
       "    </tr>\n",
       "  </tbody>\n",
       "</table>\n",
       "</div>"
      ],
      "text/plain": [
       "   Sector_consultancy  Sector_entertainment  Sector_food  Sector_wholesale  \\\n",
       "0                   0                     0            0                 1   \n",
       "1                   0                     0            0                 0   \n",
       "2                   0                     0            0                 0   \n",
       "3                   0                     0            1                 0   \n",
       "4                   0                     0            0                 0   \n",
       "\n",
       "   Contacted  Signup  \n",
       "0        0.0     0.0  \n",
       "1        1.0     1.0  \n",
       "2        0.0     0.0  \n",
       "3        0.0     0.0  \n",
       "4        1.0     0.0  "
      ]
     },
     "execution_count": 95,
     "metadata": {},
     "output_type": "execute_result"
    }
   ],
   "source": [
    "# keep columns with correlation coefficient that is significant\n",
    "keep = ['Sector_consultancy','Sector_entertainment','Sector_food','Sector_wholesale','Contacted','Signup']\n",
    "df_model = df_leads_sub_model[keep]\n",
    "df_model.head()"
   ]
  },
  {
   "cell_type": "code",
   "execution_count": 96,
   "metadata": {},
   "outputs": [],
   "source": [
    "df_model_contacted = df_model[df_model['Contacted']==1]\n",
    "df_model_not_contacted = df_model[df_model['Contacted']==0]"
   ]
  },
  {
   "cell_type": "code",
   "execution_count": 97,
   "metadata": {},
   "outputs": [
    {
     "data": {
      "text/html": [
       "<table class=\"simpletable\">\n",
       "<caption>Generalized Linear Model Regression Results</caption>\n",
       "<tr>\n",
       "  <th>Dep. Variable:</th>        <td>Signup</td>      <th>  No. Observations:  </th>  <td>  2555</td> \n",
       "</tr>\n",
       "<tr>\n",
       "  <th>Model:</th>                  <td>GLM</td>       <th>  Df Residuals:      </th>  <td>  2550</td> \n",
       "</tr>\n",
       "<tr>\n",
       "  <th>Model Family:</th>        <td>Binomial</td>     <th>  Df Model:          </th>  <td>     4</td> \n",
       "</tr>\n",
       "<tr>\n",
       "  <th>Link Function:</th>         <td>logit</td>      <th>  Scale:             </th> <td>  1.0000</td>\n",
       "</tr>\n",
       "<tr>\n",
       "  <th>Method:</th>                <td>IRLS</td>       <th>  Log-Likelihood:    </th> <td> -1534.7</td>\n",
       "</tr>\n",
       "<tr>\n",
       "  <th>Date:</th>            <td>Wed, 27 May 2020</td> <th>  Deviance:          </th> <td>  3069.4</td>\n",
       "</tr>\n",
       "<tr>\n",
       "  <th>Time:</th>                <td>17:52:40</td>     <th>  Pearson chi2:      </th> <td>2.55e+03</td>\n",
       "</tr>\n",
       "<tr>\n",
       "  <th>No. Iterations:</th>          <td>4</td>        <th>                     </th>     <td> </td>   \n",
       "</tr>\n",
       "<tr>\n",
       "  <th>Covariance Type:</th>     <td>nonrobust</td>    <th>                     </th>     <td> </td>   \n",
       "</tr>\n",
       "</table>\n",
       "<table class=\"simpletable\">\n",
       "<tr>\n",
       "            <td></td>              <th>coef</th>     <th>std err</th>      <th>z</th>      <th>P>|z|</th>  <th>[0.025</th>    <th>0.975]</th>  \n",
       "</tr>\n",
       "<tr>\n",
       "  <th>Intercept</th>            <td>   -1.2688</td> <td>    0.078</td> <td>  -16.322</td> <td> 0.000</td> <td>   -1.421</td> <td>   -1.116</td>\n",
       "</tr>\n",
       "<tr>\n",
       "  <th>Sector_consultancy</th>   <td>    0.7345</td> <td>    0.126</td> <td>    5.815</td> <td> 0.000</td> <td>    0.487</td> <td>    0.982</td>\n",
       "</tr>\n",
       "<tr>\n",
       "  <th>Sector_entertainment</th> <td>    0.5757</td> <td>    0.158</td> <td>    3.639</td> <td> 0.000</td> <td>    0.266</td> <td>    0.886</td>\n",
       "</tr>\n",
       "<tr>\n",
       "  <th>Sector_food</th>          <td>    0.5171</td> <td>    0.120</td> <td>    4.294</td> <td> 0.000</td> <td>    0.281</td> <td>    0.753</td>\n",
       "</tr>\n",
       "<tr>\n",
       "  <th>Sector_wholesale</th>     <td>    0.7806</td> <td>    0.132</td> <td>    5.930</td> <td> 0.000</td> <td>    0.523</td> <td>    1.039</td>\n",
       "</tr>\n",
       "</table>"
      ],
      "text/plain": [
       "<class 'statsmodels.iolib.summary.Summary'>\n",
       "\"\"\"\n",
       "                 Generalized Linear Model Regression Results                  \n",
       "==============================================================================\n",
       "Dep. Variable:                 Signup   No. Observations:                 2555\n",
       "Model:                            GLM   Df Residuals:                     2550\n",
       "Model Family:                Binomial   Df Model:                            4\n",
       "Link Function:                  logit   Scale:                          1.0000\n",
       "Method:                          IRLS   Log-Likelihood:                -1534.7\n",
       "Date:                Wed, 27 May 2020   Deviance:                       3069.4\n",
       "Time:                        17:52:40   Pearson chi2:                 2.55e+03\n",
       "No. Iterations:                     4                                         \n",
       "Covariance Type:            nonrobust                                         \n",
       "========================================================================================\n",
       "                           coef    std err          z      P>|z|      [0.025      0.975]\n",
       "----------------------------------------------------------------------------------------\n",
       "Intercept               -1.2688      0.078    -16.322      0.000      -1.421      -1.116\n",
       "Sector_consultancy       0.7345      0.126      5.815      0.000       0.487       0.982\n",
       "Sector_entertainment     0.5757      0.158      3.639      0.000       0.266       0.886\n",
       "Sector_food              0.5171      0.120      4.294      0.000       0.281       0.753\n",
       "Sector_wholesale         0.7806      0.132      5.930      0.000       0.523       1.039\n",
       "========================================================================================\n",
       "\"\"\""
      ]
     },
     "execution_count": 97,
     "metadata": {},
     "output_type": "execute_result"
    }
   ],
   "source": [
    "model_contacted = sm.GLM.from_formula(\"Signup ~ Sector_consultancy + Sector_entertainment + Sector_food + Sector_wholesale\", family=sm.families.Binomial(), data=df_model_contacted)\n",
    "result_contacted = model_contacted.fit()\n",
    "result_contacted.summary()"
   ]
  },
  {
   "cell_type": "code",
   "execution_count": 98,
   "metadata": {},
   "outputs": [
    {
     "name": "stdout",
     "output_type": "stream",
     "text": [
      "(7439, 4)\n",
      "   Sector_consultancy  Sector_entertainment  Sector_food  Sector_wholesale\n",
      "0                   0                     0            0                 1\n",
      "2                   0                     0            0                 0\n",
      "3                   0                     0            1                 0\n",
      "5                   0                     0            0                 1\n",
      "6                   0                     0            0                 0\n"
     ]
    }
   ],
   "source": [
    "# use the model to predict not contacted group \n",
    "X = df_model_not_contacted[['Sector_consultancy','Sector_entertainment','Sector_food','Sector_wholesale']]\n",
    "print(X.shape)\n",
    "print(X.head())"
   ]
  },
  {
   "cell_type": "code",
   "execution_count": 99,
   "metadata": {},
   "outputs": [
    {
     "name": "stdout",
     "output_type": "stream",
     "text": [
      "Prob    2241.839263\n",
      "dtype: float64\n",
      "(7439, 1)\n"
     ]
    },
    {
     "data": {
      "text/html": [
       "<div>\n",
       "<style scoped>\n",
       "    .dataframe tbody tr th:only-of-type {\n",
       "        vertical-align: middle;\n",
       "    }\n",
       "\n",
       "    .dataframe tbody tr th {\n",
       "        vertical-align: top;\n",
       "    }\n",
       "\n",
       "    .dataframe thead th {\n",
       "        text-align: right;\n",
       "    }\n",
       "</style>\n",
       "<table border=\"1\" class=\"dataframe\">\n",
       "  <thead>\n",
       "    <tr style=\"text-align: right;\">\n",
       "      <th></th>\n",
       "      <th>Prob</th>\n",
       "    </tr>\n",
       "  </thead>\n",
       "  <tbody>\n",
       "    <tr>\n",
       "      <th>0</th>\n",
       "      <td>0.380319</td>\n",
       "    </tr>\n",
       "    <tr>\n",
       "      <th>2</th>\n",
       "      <td>0.219462</td>\n",
       "    </tr>\n",
       "    <tr>\n",
       "      <th>3</th>\n",
       "      <td>0.320442</td>\n",
       "    </tr>\n",
       "    <tr>\n",
       "      <th>5</th>\n",
       "      <td>0.380319</td>\n",
       "    </tr>\n",
       "    <tr>\n",
       "      <th>6</th>\n",
       "      <td>0.219462</td>\n",
       "    </tr>\n",
       "  </tbody>\n",
       "</table>\n",
       "</div>"
      ],
      "text/plain": [
       "       Prob\n",
       "0  0.380319\n",
       "2  0.219462\n",
       "3  0.320442\n",
       "5  0.380319\n",
       "6  0.219462"
      ]
     },
     "execution_count": 99,
     "metadata": {},
     "output_type": "execute_result"
    }
   ],
   "source": [
    "y = result_contacted.predict(X).to_frame()\n",
    "y.columns = ['Prob']\n",
    "print(y.sum())\n",
    "print(y.shape)\n",
    "y.head()"
   ]
  },
  {
   "cell_type": "code",
   "execution_count": 100,
   "metadata": {},
   "outputs": [
    {
     "data": {
      "text/plain": [
       "Sector_consultancy         0.000000\n",
       "Sector_entertainment       0.000000\n",
       "Sector_food                0.000000\n",
       "Sector_wholesale        1000.000000\n",
       "Prob                     380.319149\n",
       "dtype: float64"
      ]
     },
     "execution_count": 100,
     "metadata": {},
     "output_type": "execute_result"
    }
   ],
   "source": [
    "#combine X and y together and select the top 1000 with higest probability \n",
    "m = X.merge(y, left_index=True, right_index=True, how='inner')\n",
    "m_top_thousand = m.sort_values(by = ['Prob'],ascending=False).iloc[0:1000,:]\n",
    "m_top_thousand.shape\n",
    "m_top_thousand.sum()"
   ]
  },
  {
   "cell_type": "markdown",
   "metadata": {},
   "source": [
    "Should pick the next 1000 leads from Wholesale sector"
   ]
  },
  {
   "cell_type": "code",
   "execution_count": 101,
   "metadata": {},
   "outputs": [
    {
     "data": {
      "text/html": [
       "<div>\n",
       "<style scoped>\n",
       "    .dataframe tbody tr th:only-of-type {\n",
       "        vertical-align: middle;\n",
       "    }\n",
       "\n",
       "    .dataframe tbody tr th {\n",
       "        vertical-align: top;\n",
       "    }\n",
       "\n",
       "    .dataframe thead th {\n",
       "        text-align: right;\n",
       "    }\n",
       "</style>\n",
       "<table border=\"1\" class=\"dataframe\">\n",
       "  <thead>\n",
       "    <tr style=\"text-align: right;\">\n",
       "      <th></th>\n",
       "      <th>Name</th>\n",
       "      <th>Phone Number</th>\n",
       "      <th>Region</th>\n",
       "      <th>Sector</th>\n",
       "      <th>Age</th>\n",
       "      <th>Total Call Count</th>\n",
       "      <th>Valid Call Count</th>\n",
       "      <th>Lead</th>\n",
       "      <th>Approval Decision</th>\n",
       "      <th>Agent - Call w/ Interest</th>\n",
       "    </tr>\n",
       "  </thead>\n",
       "  <tbody>\n",
       "    <tr>\n",
       "      <th>15</th>\n",
       "      <td>Lilia OCHOA</td>\n",
       "      <td>80967872849</td>\n",
       "      <td>north-west</td>\n",
       "      <td>wholesale</td>\n",
       "      <td>33</td>\n",
       "      <td>1.0</td>\n",
       "      <td>1.0</td>\n",
       "      <td>NaN</td>\n",
       "      <td>NaN</td>\n",
       "      <td>black</td>\n",
       "    </tr>\n",
       "    <tr>\n",
       "      <th>54</th>\n",
       "      <td>Konner JOHNSON</td>\n",
       "      <td>769819934152</td>\n",
       "      <td>scotland</td>\n",
       "      <td>wholesale</td>\n",
       "      <td>18</td>\n",
       "      <td>2.0</td>\n",
       "      <td>2.0</td>\n",
       "      <td>NaN</td>\n",
       "      <td>NaN</td>\n",
       "      <td>NaN</td>\n",
       "    </tr>\n",
       "    <tr>\n",
       "      <th>127</th>\n",
       "      <td>Nehemiah KRUEGER</td>\n",
       "      <td>908794485710</td>\n",
       "      <td>north-west</td>\n",
       "      <td>wholesale</td>\n",
       "      <td>32</td>\n",
       "      <td>3.0</td>\n",
       "      <td>3.0</td>\n",
       "      <td>NaN</td>\n",
       "      <td>NaN</td>\n",
       "      <td>orange</td>\n",
       "    </tr>\n",
       "    <tr>\n",
       "      <th>136</th>\n",
       "      <td>Eunice LEVY</td>\n",
       "      <td>562629897485</td>\n",
       "      <td>london</td>\n",
       "      <td>wholesale</td>\n",
       "      <td>73</td>\n",
       "      <td>1.0</td>\n",
       "      <td>1.0</td>\n",
       "      <td>NaN</td>\n",
       "      <td>NaN</td>\n",
       "      <td>NaN</td>\n",
       "    </tr>\n",
       "    <tr>\n",
       "      <th>172</th>\n",
       "      <td>Shyann CLAY</td>\n",
       "      <td>569818951088</td>\n",
       "      <td>north-east</td>\n",
       "      <td>wholesale</td>\n",
       "      <td>19</td>\n",
       "      <td>2.0</td>\n",
       "      <td>2.0</td>\n",
       "      <td>NaN</td>\n",
       "      <td>NaN</td>\n",
       "      <td>NaN</td>\n",
       "    </tr>\n",
       "  </tbody>\n",
       "</table>\n",
       "</div>"
      ],
      "text/plain": [
       "                 Name  Phone Number      Region     Sector  Age  \\\n",
       "15        Lilia OCHOA   80967872849  north-west  wholesale   33   \n",
       "54     Konner JOHNSON  769819934152    scotland  wholesale   18   \n",
       "127  Nehemiah KRUEGER  908794485710  north-west  wholesale   32   \n",
       "136       Eunice LEVY  562629897485      london  wholesale   73   \n",
       "172       Shyann CLAY  569818951088  north-east  wholesale   19   \n",
       "\n",
       "     Total Call Count  Valid Call Count Lead Approval Decision  \\\n",
       "15                1.0               1.0  NaN               NaN   \n",
       "54                2.0               2.0  NaN               NaN   \n",
       "127               3.0               3.0  NaN               NaN   \n",
       "136               1.0               1.0  NaN               NaN   \n",
       "172               2.0               2.0  NaN               NaN   \n",
       "\n",
       "    Agent - Call w/ Interest  \n",
       "15                     black  \n",
       "54                       NaN  \n",
       "127                   orange  \n",
       "136                      NaN  \n",
       "172                      NaN  "
      ]
     },
     "execution_count": 101,
     "metadata": {},
     "output_type": "execute_result"
    }
   ],
   "source": [
    "# which agent to choose to make the phone call? \n",
    "df_leads_contacted_wholesale = df_leads[(df_leads['Valid Call Count']>=1) & (df_leads['Sector']=='wholesale')]\n",
    "df_leads_contacted_wholesale.head()"
   ]
  },
  {
   "cell_type": "code",
   "execution_count": 102,
   "metadata": {},
   "outputs": [
    {
     "data": {
      "text/plain": [
       "(376, 10)"
      ]
     },
     "execution_count": 102,
     "metadata": {},
     "output_type": "execute_result"
    }
   ],
   "source": [
    "df_leads_contacted_wholesale.shape"
   ]
  },
  {
   "cell_type": "code",
   "execution_count": 103,
   "metadata": {},
   "outputs": [
    {
     "data": {
      "text/plain": [
       "orange    100\n",
       "red        82\n",
       "black      29\n",
       "green      13\n",
       "blue        9\n",
       "Name: Agent - Call w/ Interest, dtype: int64"
      ]
     },
     "execution_count": 103,
     "metadata": {},
     "output_type": "execute_result"
    }
   ],
   "source": [
    "# which agent has the most \"interested\" call outcomes? -organge\n",
    "df_leads_contacted_wholesale['Agent - Call w/ Interest'].value_counts()"
   ]
  },
  {
   "cell_type": "code",
   "execution_count": 104,
   "metadata": {},
   "outputs": [
    {
     "data": {
      "text/plain": [
       "Agent - Call w/ Interest\n",
       "black      9\n",
       "blue       8\n",
       "green      9\n",
       "orange    54\n",
       "red       63\n",
       "dtype: int64"
      ]
     },
     "execution_count": 104,
     "metadata": {},
     "output_type": "execute_result"
    }
   ],
   "source": [
    "# which agent has the most signups? -red \n",
    "df_leads_contacted_wholesale[~df_leads_contacted_wholesale['Approval Decision'].isna()].groupby('Agent - Call w/ Interest').size()"
   ]
  },
  {
   "cell_type": "code",
   "execution_count": null,
   "metadata": {},
   "outputs": [],
   "source": []
  }
 ],
 "metadata": {
  "kernelspec": {
   "display_name": "Python 3",
   "language": "python",
   "name": "python3"
  },
  "language_info": {
   "codemirror_mode": {
    "name": "ipython",
    "version": 3
   },
   "file_extension": ".py",
   "mimetype": "text/x-python",
   "name": "python",
   "nbconvert_exporter": "python",
   "pygments_lexer": "ipython3",
   "version": "3.7.6"
  }
 },
 "nbformat": 4,
 "nbformat_minor": 2
}
